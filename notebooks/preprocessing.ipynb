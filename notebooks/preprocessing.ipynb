{
 "cells": [
  {
   "cell_type": "markdown",
   "metadata": {},
   "source": [
    "# Setting"
   ]
  },
  {
   "cell_type": "code",
   "execution_count": 1,
   "metadata": {},
   "outputs": [],
   "source": [
    "import pandas as pd\n",
    "import geopandas as gpd\n",
    "import matplotlib.pyplot as plt\n",
    "import seaborn as sns"
   ]
  },
  {
   "cell_type": "code",
   "execution_count": 2,
   "metadata": {},
   "outputs": [],
   "source": [
    "import matplotlib.font_manager as fm\n",
    "import platform\n",
    "plt.rcParams['font.family'] = 'AppleGothic'"
   ]
  },
  {
   "cell_type": "markdown",
   "metadata": {},
   "source": [
    "# Preprocessing"
   ]
  },
  {
   "cell_type": "markdown",
   "metadata": {},
   "source": [
    "## 서울시 건설 알림이 정보"
   ]
  },
  {
   "cell_type": "code",
   "execution_count": 61,
   "metadata": {},
   "outputs": [],
   "source": [
    "construction_df = pd.read_csv('data/raw_data/서울시 건설 알림이 정보.csv', encoding='cp949')"
   ]
  },
  {
   "cell_type": "code",
   "execution_count": 62,
   "metadata": {},
   "outputs": [
    {
     "data": {
      "text/html": [
       "<div>\n",
       "<style scoped>\n",
       "    .dataframe tbody tr th:only-of-type {\n",
       "        vertical-align: middle;\n",
       "    }\n",
       "\n",
       "    .dataframe tbody tr th {\n",
       "        vertical-align: top;\n",
       "    }\n",
       "\n",
       "    .dataframe thead th {\n",
       "        text-align: right;\n",
       "    }\n",
       "</style>\n",
       "<table border=\"1\" class=\"dataframe\">\n",
       "  <thead>\n",
       "    <tr style=\"text-align: right;\">\n",
       "      <th></th>\n",
       "      <th>프로젝트 코드</th>\n",
       "      <th>프로젝트 명</th>\n",
       "      <th>사업착수일(계약일)</th>\n",
       "      <th>사업기간</th>\n",
       "      <th>프로젝트 종료여부(진행:0 종료:1)</th>\n",
       "      <th>사무실주소</th>\n",
       "      <th>프로젝트 주소</th>\n",
       "      <th>위치좌표(위도)</th>\n",
       "      <th>위치좌표(경도)</th>\n",
       "      <th>자치구 구분</th>\n",
       "      <th>사업금액(억원)</th>\n",
       "    </tr>\n",
       "  </thead>\n",
       "  <tbody>\n",
       "    <tr>\n",
       "      <th>0</th>\n",
       "      <td>3502024051377</td>\n",
       "      <td>2024년 중부수도사업소 관내 포장도로 굴착복구공사(장기1차- 단가계약)</td>\n",
       "      <td>202405</td>\n",
       "      <td>2024-05-13~2025-06-30</td>\n",
       "      <td>0</td>\n",
       "      <td>NaN</td>\n",
       "      <td>서울 중구 장충단로 88</td>\n",
       "      <td>37.566779</td>\n",
       "      <td>126.978618</td>\n",
       "      <td>NaN</td>\n",
       "      <td>NaN</td>\n",
       "    </tr>\n",
       "    <tr>\n",
       "      <th>1</th>\n",
       "      <td>7552024061894</td>\n",
       "      <td>2024년 1,2호선 강북구간 궤도시설 보수보강공사</td>\n",
       "      <td>202406</td>\n",
       "      <td>2024-06-18~2025-06-24</td>\n",
       "      <td>0</td>\n",
       "      <td>NaN</td>\n",
       "      <td>서울 중구 정동 5-8</td>\n",
       "      <td>37.565345</td>\n",
       "      <td>126.977198</td>\n",
       "      <td>중구</td>\n",
       "      <td>NaN</td>\n",
       "    </tr>\n",
       "    <tr>\n",
       "      <th>2</th>\n",
       "      <td>8502024070466</td>\n",
       "      <td>의회청사 공간재배치 및 내진보강 소방공사 (장기1차)</td>\n",
       "      <td>202407</td>\n",
       "      <td>2024-07-04~2025-06-09</td>\n",
       "      <td>0</td>\n",
       "      <td>NaN</td>\n",
       "      <td>서울특별시 중구 세종대로 125</td>\n",
       "      <td>37.567728</td>\n",
       "      <td>126.976671</td>\n",
       "      <td>중구</td>\n",
       "      <td>NaN</td>\n",
       "    </tr>\n",
       "    <tr>\n",
       "      <th>3</th>\n",
       "      <td>8502024061277</td>\n",
       "      <td>의회청사 공간재배치 및 내진보강 전기공사 (장기1차)</td>\n",
       "      <td>202406</td>\n",
       "      <td>2024-06-12~2025-05-31</td>\n",
       "      <td>0</td>\n",
       "      <td>NaN</td>\n",
       "      <td>서울특별시 중구 세종대로 125</td>\n",
       "      <td>37.567728</td>\n",
       "      <td>126.976671</td>\n",
       "      <td>중구</td>\n",
       "      <td>NaN</td>\n",
       "    </tr>\n",
       "    <tr>\n",
       "      <th>4</th>\n",
       "      <td>8502024062180</td>\n",
       "      <td>의회청사 공간재배치 및 내진보강 정보통신공사 (장기1차)</td>\n",
       "      <td>202406</td>\n",
       "      <td>2024-06-21~2025-05-31</td>\n",
       "      <td>0</td>\n",
       "      <td>NaN</td>\n",
       "      <td>서울특별시 중구 세종대로 125</td>\n",
       "      <td>37.567728</td>\n",
       "      <td>126.976671</td>\n",
       "      <td>중구</td>\n",
       "      <td>NaN</td>\n",
       "    </tr>\n",
       "  </tbody>\n",
       "</table>\n",
       "</div>"
      ],
      "text/plain": [
       "         프로젝트 코드                                    프로젝트 명  사업착수일(계약일)  \\\n",
       "0  3502024051377  2024년 중부수도사업소 관내 포장도로 굴착복구공사(장기1차- 단가계약)      202405   \n",
       "1  7552024061894              2024년 1,2호선 강북구간 궤도시설 보수보강공사      202406   \n",
       "2  8502024070466             의회청사 공간재배치 및 내진보강 소방공사 (장기1차)      202407   \n",
       "3  8502024061277             의회청사 공간재배치 및 내진보강 전기공사 (장기1차)      202406   \n",
       "4  8502024062180           의회청사 공간재배치 및 내진보강 정보통신공사 (장기1차)      202406   \n",
       "\n",
       "                    사업기간  프로젝트 종료여부(진행:0 종료:1)  사무실주소            프로젝트 주소  \\\n",
       "0  2024-05-13~2025-06-30                     0    NaN      서울 중구 장충단로 88   \n",
       "1  2024-06-18~2025-06-24                     0    NaN       서울 중구 정동 5-8   \n",
       "2  2024-07-04~2025-06-09                     0    NaN  서울특별시 중구 세종대로 125   \n",
       "3  2024-06-12~2025-05-31                     0    NaN  서울특별시 중구 세종대로 125   \n",
       "4  2024-06-21~2025-05-31                     0    NaN  서울특별시 중구 세종대로 125   \n",
       "\n",
       "    위치좌표(위도)    위치좌표(경도) 자치구 구분  사업금액(억원)  \n",
       "0  37.566779  126.978618    NaN       NaN  \n",
       "1  37.565345  126.977198     중구       NaN  \n",
       "2  37.567728  126.976671     중구       NaN  \n",
       "3  37.567728  126.976671     중구       NaN  \n",
       "4  37.567728  126.976671     중구       NaN  "
      ]
     },
     "execution_count": 62,
     "metadata": {},
     "output_type": "execute_result"
    }
   ],
   "source": [
    "construction_df.head()"
   ]
  },
  {
   "cell_type": "code",
   "execution_count": 63,
   "metadata": {},
   "outputs": [],
   "source": [
    "# 프로젝트 코드 컬럼 삭제 (의미 없음)\n",
    "construction_df.drop(columns=[\"프로젝트 코드\"], inplace=True)"
   ]
  },
  {
   "cell_type": "code",
   "execution_count": 64,
   "metadata": {},
   "outputs": [],
   "source": [
    "# 사무실 주소 컬럼 삭제 (의미 없음)\n",
    "construction_df.drop(columns=[\"사무실주소\"], inplace=True)"
   ]
  },
  {
   "cell_type": "code",
   "execution_count": 65,
   "metadata": {},
   "outputs": [],
   "source": [
    "# 프로젝트 종료여부(진행:0 종료:1)\n",
    "\n",
    "# 컬럼 이름 변경\n",
    "construction_df = construction_df.rename(columns={\"프로젝트 종료여부(진행:0 종료:1)\": \"프로젝트 종료여부\"})\n",
    "\n",
    "# 0 → False, 1 → True 변환\n",
    "construction_df[\"프로젝트 종료여부\"] = construction_df[\"프로젝트 종료여부\"].map({0: False, 1: True})"
   ]
  },
  {
   "cell_type": "code",
   "execution_count": 66,
   "metadata": {},
   "outputs": [],
   "source": [
    "# 위도 경도 결측치 제거\n",
    "construction_df.dropna(subset=[\"위치좌표(위도)\", \"위치좌표(경도)\"], inplace=True)"
   ]
  },
  {
   "cell_type": "code",
   "execution_count": 67,
   "metadata": {},
   "outputs": [],
   "source": [
    "# 자취구 컬럼 결측 보완\n",
    "construction_df[\"자치구 구분\"] = construction_df[\"자치구 구분\"].fillna(\n",
    "    construction_df[\"프로젝트 주소\"].str.extract(r\"\\s([^\\s]+구)\")[0]\n",
    ")"
   ]
  },
  {
   "cell_type": "code",
   "execution_count": 68,
   "metadata": {},
   "outputs": [
    {
     "data": {
      "text/plain": [
       "프로젝트 명          0\n",
       "사업착수일(계약일)      0\n",
       "사업기간            0\n",
       "프로젝트 종료여부       0\n",
       "프로젝트 주소        12\n",
       "위치좌표(위도)        0\n",
       "위치좌표(경도)        0\n",
       "자치구 구분         53\n",
       "사업금액(억원)      537\n",
       "dtype: int64"
      ]
     },
     "execution_count": 68,
     "metadata": {},
     "output_type": "execute_result"
    }
   ],
   "source": [
    "construction_df.isnull().sum()"
   ]
  },
  {
   "cell_type": "code",
   "execution_count": 69,
   "metadata": {},
   "outputs": [],
   "source": [
    "# '프로젝트 주소'와 '자치구 구분' 이렇게 했는데도 결측치가 있는 행 제거\n",
    "construction_df.dropna(subset=[\"프로젝트 주소\", \"자치구 구분\"], inplace=True)"
   ]
  },
  {
   "cell_type": "code",
   "execution_count": 70,
   "metadata": {},
   "outputs": [],
   "source": [
    "# 사업착수일 int → datetime\n",
    "construction_df[\"사업착수일\"] = pd.to_datetime(construction_df[\"사업착수일(계약일)\"].astype(str) + \"01\", format=\"%Y%m%d\")\n",
    "\n",
    "# 사업기간 → 시작일, 종료일 분리 및 datetime 변환\n",
    "construction_df[[\"사업시작일\", \"사업종료일\"]] = construction_df[\"사업기간\"].str.split(\"~\", expand=True)\n",
    "construction_df[\"사업시작일\"] = pd.to_datetime(construction_df[\"사업시작일\"], errors=\"coerce\")\n",
    "construction_df[\"사업종료일\"] = pd.to_datetime(construction_df[\"사업종료일\"], errors=\"coerce\")\n",
    "\n",
    "# 기존 컬럼 삭제\n",
    "construction_df.drop(columns=[\"사업착수일(계약일)\"], inplace=True)\n",
    "construction_df.drop(columns=[\"사업기간\"], inplace=True)"
   ]
  },
  {
   "cell_type": "code",
   "execution_count": 71,
   "metadata": {},
   "outputs": [
    {
     "data": {
      "text/plain": [
       "프로젝트 명         0\n",
       "프로젝트 종료여부      0\n",
       "프로젝트 주소        0\n",
       "위치좌표(위도)       0\n",
       "위치좌표(경도)       0\n",
       "자치구 구분         0\n",
       "사업금액(억원)     506\n",
       "사업착수일          0\n",
       "사업시작일          0\n",
       "사업종료일          0\n",
       "dtype: int64"
      ]
     },
     "execution_count": 71,
     "metadata": {},
     "output_type": "execute_result"
    }
   ],
   "source": [
    "construction_df.isnull().sum()"
   ]
  },
  {
   "cell_type": "code",
   "execution_count": 72,
   "metadata": {},
   "outputs": [
    {
     "data": {
      "text/html": [
       "<div>\n",
       "<style scoped>\n",
       "    .dataframe tbody tr th:only-of-type {\n",
       "        vertical-align: middle;\n",
       "    }\n",
       "\n",
       "    .dataframe tbody tr th {\n",
       "        vertical-align: top;\n",
       "    }\n",
       "\n",
       "    .dataframe thead th {\n",
       "        text-align: right;\n",
       "    }\n",
       "</style>\n",
       "<table border=\"1\" class=\"dataframe\">\n",
       "  <thead>\n",
       "    <tr style=\"text-align: right;\">\n",
       "      <th></th>\n",
       "      <th>프로젝트 명</th>\n",
       "      <th>프로젝트 종료여부</th>\n",
       "      <th>프로젝트 주소</th>\n",
       "      <th>위치좌표(위도)</th>\n",
       "      <th>위치좌표(경도)</th>\n",
       "      <th>자치구 구분</th>\n",
       "      <th>사업금액(억원)</th>\n",
       "      <th>사업착수일</th>\n",
       "      <th>사업시작일</th>\n",
       "      <th>사업종료일</th>\n",
       "    </tr>\n",
       "  </thead>\n",
       "  <tbody>\n",
       "    <tr>\n",
       "      <th>0</th>\n",
       "      <td>2024년 중부수도사업소 관내 포장도로 굴착복구공사(장기1차- 단가계약)</td>\n",
       "      <td>False</td>\n",
       "      <td>서울 중구 장충단로 88</td>\n",
       "      <td>37.566779</td>\n",
       "      <td>126.978618</td>\n",
       "      <td>중구</td>\n",
       "      <td>NaN</td>\n",
       "      <td>2024-05-01</td>\n",
       "      <td>2024-05-13</td>\n",
       "      <td>2025-06-30</td>\n",
       "    </tr>\n",
       "    <tr>\n",
       "      <th>1</th>\n",
       "      <td>2024년 1,2호선 강북구간 궤도시설 보수보강공사</td>\n",
       "      <td>False</td>\n",
       "      <td>서울 중구 정동 5-8</td>\n",
       "      <td>37.565345</td>\n",
       "      <td>126.977198</td>\n",
       "      <td>중구</td>\n",
       "      <td>NaN</td>\n",
       "      <td>2024-06-01</td>\n",
       "      <td>2024-06-18</td>\n",
       "      <td>2025-06-24</td>\n",
       "    </tr>\n",
       "    <tr>\n",
       "      <th>2</th>\n",
       "      <td>의회청사 공간재배치 및 내진보강 소방공사 (장기1차)</td>\n",
       "      <td>False</td>\n",
       "      <td>서울특별시 중구 세종대로 125</td>\n",
       "      <td>37.567728</td>\n",
       "      <td>126.976671</td>\n",
       "      <td>중구</td>\n",
       "      <td>NaN</td>\n",
       "      <td>2024-07-01</td>\n",
       "      <td>2024-07-04</td>\n",
       "      <td>2025-06-09</td>\n",
       "    </tr>\n",
       "    <tr>\n",
       "      <th>3</th>\n",
       "      <td>의회청사 공간재배치 및 내진보강 전기공사 (장기1차)</td>\n",
       "      <td>False</td>\n",
       "      <td>서울특별시 중구 세종대로 125</td>\n",
       "      <td>37.567728</td>\n",
       "      <td>126.976671</td>\n",
       "      <td>중구</td>\n",
       "      <td>NaN</td>\n",
       "      <td>2024-06-01</td>\n",
       "      <td>2024-06-12</td>\n",
       "      <td>2025-05-31</td>\n",
       "    </tr>\n",
       "    <tr>\n",
       "      <th>4</th>\n",
       "      <td>의회청사 공간재배치 및 내진보강 정보통신공사 (장기1차)</td>\n",
       "      <td>False</td>\n",
       "      <td>서울특별시 중구 세종대로 125</td>\n",
       "      <td>37.567728</td>\n",
       "      <td>126.976671</td>\n",
       "      <td>중구</td>\n",
       "      <td>NaN</td>\n",
       "      <td>2024-06-01</td>\n",
       "      <td>2024-06-21</td>\n",
       "      <td>2025-05-31</td>\n",
       "    </tr>\n",
       "  </tbody>\n",
       "</table>\n",
       "</div>"
      ],
      "text/plain": [
       "                                     프로젝트 명  프로젝트 종료여부            프로젝트 주소  \\\n",
       "0  2024년 중부수도사업소 관내 포장도로 굴착복구공사(장기1차- 단가계약)      False      서울 중구 장충단로 88   \n",
       "1              2024년 1,2호선 강북구간 궤도시설 보수보강공사      False       서울 중구 정동 5-8   \n",
       "2             의회청사 공간재배치 및 내진보강 소방공사 (장기1차)      False  서울특별시 중구 세종대로 125   \n",
       "3             의회청사 공간재배치 및 내진보강 전기공사 (장기1차)      False  서울특별시 중구 세종대로 125   \n",
       "4           의회청사 공간재배치 및 내진보강 정보통신공사 (장기1차)      False  서울특별시 중구 세종대로 125   \n",
       "\n",
       "    위치좌표(위도)    위치좌표(경도) 자치구 구분  사업금액(억원)      사업착수일      사업시작일      사업종료일  \n",
       "0  37.566779  126.978618     중구       NaN 2024-05-01 2024-05-13 2025-06-30  \n",
       "1  37.565345  126.977198     중구       NaN 2024-06-01 2024-06-18 2025-06-24  \n",
       "2  37.567728  126.976671     중구       NaN 2024-07-01 2024-07-04 2025-06-09  \n",
       "3  37.567728  126.976671     중구       NaN 2024-06-01 2024-06-12 2025-05-31  \n",
       "4  37.567728  126.976671     중구       NaN 2024-06-01 2024-06-21 2025-05-31  "
      ]
     },
     "execution_count": 72,
     "metadata": {},
     "output_type": "execute_result"
    }
   ],
   "source": [
    "construction_df.head()"
   ]
  },
  {
   "cell_type": "code",
   "execution_count": 73,
   "metadata": {},
   "outputs": [],
   "source": [
    "construction_df.to_csv(\"data/processed/construction_processed.csv\", index=False, encoding=\"utf-8-sig\")"
   ]
  },
  {
   "cell_type": "markdown",
   "metadata": {},
   "source": [
    "## 서울시 건축물 유출지하수 현황"
   ]
  },
  {
   "cell_type": "code",
   "execution_count": 119,
   "metadata": {},
   "outputs": [],
   "source": [
    "building_underground_water_df = pd.read_csv('data/raw_data/서울시 건축물 유출지하수 현황.csv', encoding='cp949')"
   ]
  },
  {
   "cell_type": "code",
   "execution_count": 120,
   "metadata": {},
   "outputs": [
    {
     "data": {
      "text/html": [
       "<div>\n",
       "<style scoped>\n",
       "    .dataframe tbody tr th:only-of-type {\n",
       "        vertical-align: middle;\n",
       "    }\n",
       "\n",
       "    .dataframe tbody tr th {\n",
       "        vertical-align: top;\n",
       "    }\n",
       "\n",
       "    .dataframe thead th {\n",
       "        text-align: right;\n",
       "    }\n",
       "</style>\n",
       "<table border=\"1\" class=\"dataframe\">\n",
       "  <thead>\n",
       "    <tr style=\"text-align: right;\">\n",
       "      <th></th>\n",
       "      <th>건축물명</th>\n",
       "      <th>건축물 위치</th>\n",
       "      <th>층수(지상_지하)</th>\n",
       "      <th>연면적</th>\n",
       "      <th>조사년도</th>\n",
       "      <th>총발생량(톤)</th>\n",
       "      <th>일평균발생량(톤/일)</th>\n",
       "      <th>일평균이용현황(톤/일)_하천방류</th>\n",
       "      <th>일평균이용현황(톤/일)_도로청소</th>\n",
       "      <th>일평균이용현황(톤/일)_공원용수</th>\n",
       "      <th>일평균이용현황(톤/일)_화장실세척</th>\n",
       "      <th>일평균이용현황(톤/일)_건물용수</th>\n",
       "      <th>미사용_하수도방류(톤/일)</th>\n",
       "      <th>일평균이용현황(톤/일)_기타건물용수</th>\n",
       "    </tr>\n",
       "  </thead>\n",
       "  <tbody>\n",
       "    <tr>\n",
       "      <th>0</th>\n",
       "      <td>서초오퓨런스빌딩</td>\n",
       "      <td>서초대로 254(서초동 1553-5)</td>\n",
       "      <td>18/8</td>\n",
       "      <td>31215.79</td>\n",
       "      <td>2024</td>\n",
       "      <td>6870.5</td>\n",
       "      <td>37.75</td>\n",
       "      <td>NaN</td>\n",
       "      <td>NaN</td>\n",
       "      <td>NaN</td>\n",
       "      <td>NaN</td>\n",
       "      <td>0.0</td>\n",
       "      <td>37.75</td>\n",
       "      <td>NaN</td>\n",
       "    </tr>\n",
       "    <tr>\n",
       "      <th>1</th>\n",
       "      <td>더클래스효성(주)</td>\n",
       "      <td>효령로55길 65(서초동 1597-7)</td>\n",
       "      <td>/</td>\n",
       "      <td>NaN</td>\n",
       "      <td>2024</td>\n",
       "      <td>2318.7</td>\n",
       "      <td>12.74</td>\n",
       "      <td>NaN</td>\n",
       "      <td>NaN</td>\n",
       "      <td>NaN</td>\n",
       "      <td>NaN</td>\n",
       "      <td>0.0</td>\n",
       "      <td>12.74</td>\n",
       "      <td>NaN</td>\n",
       "    </tr>\n",
       "    <tr>\n",
       "      <th>2</th>\n",
       "      <td>웅진타워</td>\n",
       "      <td>반포대로30길 81(서초동)</td>\n",
       "      <td>16/8</td>\n",
       "      <td>13852.05</td>\n",
       "      <td>2024</td>\n",
       "      <td>21481.5</td>\n",
       "      <td>118.03</td>\n",
       "      <td>NaN</td>\n",
       "      <td>NaN</td>\n",
       "      <td>NaN</td>\n",
       "      <td>NaN</td>\n",
       "      <td>0.0</td>\n",
       "      <td>118.03</td>\n",
       "      <td>NaN</td>\n",
       "    </tr>\n",
       "    <tr>\n",
       "      <th>3</th>\n",
       "      <td>나비호텔레지던스(김영*)</td>\n",
       "      <td>서초대로58길 5(서초동 1676-2)</td>\n",
       "      <td>11/2</td>\n",
       "      <td>2086.08</td>\n",
       "      <td>2024</td>\n",
       "      <td>358.5</td>\n",
       "      <td>1.97</td>\n",
       "      <td>NaN</td>\n",
       "      <td>NaN</td>\n",
       "      <td>NaN</td>\n",
       "      <td>NaN</td>\n",
       "      <td>0.0</td>\n",
       "      <td>1.97</td>\n",
       "      <td>NaN</td>\n",
       "    </tr>\n",
       "    <tr>\n",
       "      <th>4</th>\n",
       "      <td>북한산코오롱하늘채아파트</td>\n",
       "      <td>우이천로 367</td>\n",
       "      <td>18/</td>\n",
       "      <td>43216.74</td>\n",
       "      <td>2024</td>\n",
       "      <td>816.1</td>\n",
       "      <td>4.48</td>\n",
       "      <td>0.0</td>\n",
       "      <td>0.0</td>\n",
       "      <td>0.0</td>\n",
       "      <td>0.0</td>\n",
       "      <td>0.0</td>\n",
       "      <td>4.48</td>\n",
       "      <td>NaN</td>\n",
       "    </tr>\n",
       "  </tbody>\n",
       "</table>\n",
       "</div>"
      ],
      "text/plain": [
       "            건축물명                 건축물 위치 층수(지상_지하)       연면적  조사년도  총발생량(톤)  \\\n",
       "0       서초오퓨런스빌딩   서초대로 254(서초동 1553-5)      18/8  31215.79  2024   6870.5   \n",
       "1      더클래스효성(주)  효령로55길 65(서초동 1597-7)         /       NaN  2024   2318.7   \n",
       "2           웅진타워       반포대로30길 81(서초동)       16/8  13852.05  2024  21481.5   \n",
       "3  나비호텔레지던스(김영*)  서초대로58길 5(서초동 1676-2)      11/2   2086.08  2024    358.5   \n",
       "4   북한산코오롱하늘채아파트               우이천로 367       18/  43216.74  2024    816.1   \n",
       "\n",
       "   일평균발생량(톤/일)  일평균이용현황(톤/일)_하천방류  일평균이용현황(톤/일)_도로청소  일평균이용현황(톤/일)_공원용수  \\\n",
       "0        37.75                NaN                NaN                NaN   \n",
       "1        12.74                NaN                NaN                NaN   \n",
       "2       118.03                NaN                NaN                NaN   \n",
       "3         1.97                NaN                NaN                NaN   \n",
       "4         4.48                0.0                0.0                0.0   \n",
       "\n",
       "   일평균이용현황(톤/일)_화장실세척  일평균이용현황(톤/일)_건물용수  미사용_하수도방류(톤/일) 일평균이용현황(톤/일)_기타건물용수  \n",
       "0                 NaN                0.0           37.75                 NaN  \n",
       "1                 NaN                0.0           12.74                 NaN  \n",
       "2                 NaN                0.0          118.03                 NaN  \n",
       "3                 NaN                0.0            1.97                 NaN  \n",
       "4                 0.0                0.0            4.48                 NaN  "
      ]
     },
     "execution_count": 120,
     "metadata": {},
     "output_type": "execute_result"
    }
   ],
   "source": [
    "building_underground_water_df.head()"
   ]
  },
  {
   "cell_type": "code",
   "execution_count": 121,
   "metadata": {},
   "outputs": [
    {
     "name": "stdout",
     "output_type": "stream",
     "text": [
      "<class 'pandas.core.frame.DataFrame'>\n",
      "RangeIndex: 18206 entries, 0 to 18205\n",
      "Data columns (total 14 columns):\n",
      " #   Column               Non-Null Count  Dtype  \n",
      "---  ------               --------------  -----  \n",
      " 0   건축물명                 18201 non-null  object \n",
      " 1   건축물 위치               18008 non-null  object \n",
      " 2   층수(지상_지하)            15551 non-null  object \n",
      " 3   연면적                  3699 non-null   object \n",
      " 4   조사년도                 18206 non-null  int64  \n",
      " 5   총발생량(톤)              17613 non-null  float64\n",
      " 6   일평균발생량(톤/일)          18113 non-null  float64\n",
      " 7   일평균이용현황(톤/일)_하천방류    1996 non-null   float64\n",
      " 8   일평균이용현황(톤/일)_도로청소    1943 non-null   float64\n",
      " 9   일평균이용현황(톤/일)_공원용수    3252 non-null   float64\n",
      " 10  일평균이용현황(톤/일)_화장실세척   2788 non-null   float64\n",
      " 11  일평균이용현황(톤/일)_건물용수    7800 non-null   float64\n",
      " 12  미사용_하수도방류(톤/일)       17936 non-null  float64\n",
      " 13  일평균이용현황(톤/일)_기타건물용수  396 non-null    object \n",
      "dtypes: float64(8), int64(1), object(5)\n",
      "memory usage: 1.9+ MB\n"
     ]
    }
   ],
   "source": [
    "building_underground_water_df.info()"
   ]
  },
  {
   "cell_type": "code",
   "execution_count": 122,
   "metadata": {},
   "outputs": [
    {
     "data": {
      "text/plain": [
       "건축물명                       5\n",
       "건축물 위치                   198\n",
       "층수(지상_지하)               2655\n",
       "연면적                    14507\n",
       "조사년도                       0\n",
       "총발생량(톤)                  593\n",
       "일평균발생량(톤/일)               93\n",
       "일평균이용현황(톤/일)_하천방류      16210\n",
       "일평균이용현황(톤/일)_도로청소      16263\n",
       "일평균이용현황(톤/일)_공원용수      14954\n",
       "일평균이용현황(톤/일)_화장실세척     15418\n",
       "일평균이용현황(톤/일)_건물용수      10406\n",
       "미사용_하수도방류(톤/일)           270\n",
       "일평균이용현황(톤/일)_기타건물용수    17810\n",
       "dtype: int64"
      ]
     },
     "execution_count": 122,
     "metadata": {},
     "output_type": "execute_result"
    }
   ],
   "source": [
    "building_underground_water_df.isnull().sum()"
   ]
  },
  {
   "cell_type": "code",
   "execution_count": 123,
   "metadata": {},
   "outputs": [],
   "source": [
    "# 일평균이용현황(톤/일)_하천방류, 도로청소, 공원용수, 화장실세척, 건물용수, 기타건물용수 컬럼은 결측치가 너무 많아서 사용하기 어려워 보임\n",
    "building_underground_water_df.drop(columns=[\"일평균이용현황(톤/일)_하천방류\", \"일평균이용현황(톤/일)_도로청소\", \"일평균이용현황(톤/일)_공원용수\", \"일평균이용현황(톤/일)_화장실세척\", \"일평균이용현황(톤/일)_건물용수\", \"일평균이용현황(톤/일)_기타건물용수\"], inplace=True)"
   ]
  },
  {
   "cell_type": "code",
   "execution_count": 124,
   "metadata": {},
   "outputs": [],
   "source": [
    "# 연면적은 사용할 수도 있는데 결측치가 너무 많아서 제거 따로 구할 수 있는 방법도 없음\n",
    "building_underground_water_df.drop(columns=[\"연면적\"], inplace=True)"
   ]
  },
  {
   "cell_type": "code",
   "execution_count": 125,
   "metadata": {},
   "outputs": [
    {
     "data": {
      "text/plain": [
       "건축물명                 5\n",
       "건축물 위치             198\n",
       "층수(지상_지하)         2655\n",
       "조사년도                 0\n",
       "총발생량(톤)            593\n",
       "일평균발생량(톤/일)         93\n",
       "미사용_하수도방류(톤/일)     270\n",
       "dtype: int64"
      ]
     },
     "execution_count": 125,
     "metadata": {},
     "output_type": "execute_result"
    }
   ],
   "source": [
    "building_underground_water_df.isnull().sum()"
   ]
  },
  {
   "cell_type": "code",
   "execution_count": 126,
   "metadata": {},
   "outputs": [
    {
     "name": "stdout",
     "output_type": "stream",
     "text": [
      "<class 'pandas.core.frame.DataFrame'>\n",
      "RangeIndex: 18206 entries, 0 to 18205\n",
      "Data columns (total 7 columns):\n",
      " #   Column          Non-Null Count  Dtype  \n",
      "---  ------          --------------  -----  \n",
      " 0   건축물명            18201 non-null  object \n",
      " 1   건축물 위치          18008 non-null  object \n",
      " 2   층수(지상_지하)       15551 non-null  object \n",
      " 3   조사년도            18206 non-null  int64  \n",
      " 4   총발생량(톤)         17613 non-null  float64\n",
      " 5   일평균발생량(톤/일)     18113 non-null  float64\n",
      " 6   미사용_하수도방류(톤/일)  17936 non-null  float64\n",
      "dtypes: float64(3), int64(1), object(3)\n",
      "memory usage: 995.8+ KB\n"
     ]
    }
   ],
   "source": [
    "building_underground_water_df.info()"
   ]
  },
  {
   "cell_type": "code",
   "execution_count": 127,
   "metadata": {},
   "outputs": [
    {
     "name": "stdout",
     "output_type": "stream",
     "text": [
      "결측치만 있는 행 수: 7\n"
     ]
    }
   ],
   "source": [
    "# \"총발생량(톤)\", \"일평균발생량(톤/일)\", \"미사용_하수도방류(톤/일)\" 이거 3개 모두가 결측치인 행은 지우기 (정보가 없음)\n",
    "null_rows = building_underground_water_df[\n",
    "    building_underground_water_df[[\"총발생량(톤)\", \"일평균발생량(톤/일)\", \"미사용_하수도방류(톤/일)\"]].isnull().all(axis=1)\n",
    "]\n",
    "\n",
    "print(f\"결측치만 있는 행 수: {len(null_rows)}\")\n",
    "\n",
    "building_underground_water_df = building_underground_water_df.drop(null_rows.index)"
   ]
  },
  {
   "cell_type": "code",
   "execution_count": 128,
   "metadata": {},
   "outputs": [],
   "source": [
    "# 건축물명, 건축물 위치가 결측치인 행 지우기\n",
    "building_underground_water_df.dropna(subset=[\"건축물명\", \"건축물 위치\"], inplace=True)"
   ]
  },
  {
   "cell_type": "code",
   "execution_count": 129,
   "metadata": {},
   "outputs": [
    {
     "data": {
      "text/plain": [
       "건축물명                 0\n",
       "건축물 위치               0\n",
       "층수(지상_지하)         2576\n",
       "조사년도                 0\n",
       "총발생량(톤)            586\n",
       "일평균발생량(톤/일)         86\n",
       "미사용_하수도방류(톤/일)     263\n",
       "dtype: int64"
      ]
     },
     "execution_count": 129,
     "metadata": {},
     "output_type": "execute_result"
    }
   ],
   "source": [
    "building_underground_water_df.isnull().sum()"
   ]
  },
  {
   "cell_type": "code",
   "execution_count": 130,
   "metadata": {},
   "outputs": [
    {
     "name": "stdout",
     "output_type": "stream",
     "text": [
      "<class 'pandas.core.frame.DataFrame'>\n",
      "Index: 17996 entries, 0 to 18205\n",
      "Data columns (total 7 columns):\n",
      " #   Column          Non-Null Count  Dtype  \n",
      "---  ------          --------------  -----  \n",
      " 0   건축물명            17996 non-null  object \n",
      " 1   건축물 위치          17996 non-null  object \n",
      " 2   층수(지상_지하)       15420 non-null  object \n",
      " 3   조사년도            17996 non-null  int64  \n",
      " 4   총발생량(톤)         17410 non-null  float64\n",
      " 5   일평균발생량(톤/일)     17910 non-null  float64\n",
      " 6   미사용_하수도방류(톤/일)  17733 non-null  float64\n",
      "dtypes: float64(3), int64(1), object(3)\n",
      "memory usage: 1.1+ MB\n"
     ]
    }
   ],
   "source": [
    "building_underground_water_df.info()"
   ]
  },
  {
   "cell_type": "code",
   "execution_count": 131,
   "metadata": {},
   "outputs": [],
   "source": [
    "building_underground_water_df.to_csv(\"data/processed/building_underground_water_processed.csv\", index=False, encoding=\"utf-8-sig\")"
   ]
  },
  {
   "cell_type": "markdown",
   "metadata": {},
   "source": [
    "## 서울시 공사현장 유출지하수 공간정보(2019년)"
   ]
  },
  {
   "cell_type": "code",
   "execution_count": 132,
   "metadata": {},
   "outputs": [],
   "source": [
    "construction_underground_water_df = pd.read_csv('data/raw_data/서울시 공사현장 유출지하수 공간정보(2019년).csv', encoding='cp949')"
   ]
  },
  {
   "cell_type": "code",
   "execution_count": 133,
   "metadata": {},
   "outputs": [
    {
     "data": {
      "text/html": [
       "<div>\n",
       "<style scoped>\n",
       "    .dataframe tbody tr th:only-of-type {\n",
       "        vertical-align: middle;\n",
       "    }\n",
       "\n",
       "    .dataframe tbody tr th {\n",
       "        vertical-align: top;\n",
       "    }\n",
       "\n",
       "    .dataframe thead th {\n",
       "        text-align: right;\n",
       "    }\n",
       "</style>\n",
       "<table border=\"1\" class=\"dataframe\">\n",
       "  <thead>\n",
       "    <tr style=\"text-align: right;\">\n",
       "      <th></th>\n",
       "      <th>관리번호</th>\n",
       "      <th>자치구</th>\n",
       "      <th>등록년도</th>\n",
       "      <th>공사명</th>\n",
       "      <th>공사위치</th>\n",
       "      <th>X좌표</th>\n",
       "      <th>Y좌표</th>\n",
       "    </tr>\n",
       "  </thead>\n",
       "  <tbody>\n",
       "    <tr>\n",
       "      <th>0</th>\n",
       "      <td>2019_0001</td>\n",
       "      <td>성동구</td>\n",
       "      <td>2019</td>\n",
       "      <td>뚝섬 부영복합빌딩 신축공사</td>\n",
       "      <td>서울시 성동구 성수동1가 685-701</td>\n",
       "      <td>203830.61</td>\n",
       "      <td>449268.719999</td>\n",
       "    </tr>\n",
       "    <tr>\n",
       "      <th>1</th>\n",
       "      <td>2019_0002</td>\n",
       "      <td>중랑구</td>\n",
       "      <td>2019</td>\n",
       "      <td>서울 양원지구 C-2BL 금강펜테리음 아파트 신축공사</td>\n",
       "      <td>서울시 중랑구 신내동</td>\n",
       "      <td>208774.00</td>\n",
       "      <td>456259.599999</td>\n",
       "    </tr>\n",
       "    <tr>\n",
       "      <th>2</th>\n",
       "      <td>2019_0003</td>\n",
       "      <td>광진구</td>\n",
       "      <td>2019</td>\n",
       "      <td>e편한세상 광진 그랜드파크 공동주택 신축공사</td>\n",
       "      <td>서울시 광진구 화양동</td>\n",
       "      <td>206306.80</td>\n",
       "      <td>449664.799999</td>\n",
       "    </tr>\n",
       "    <tr>\n",
       "      <th>3</th>\n",
       "      <td>2019_0004</td>\n",
       "      <td>강서구</td>\n",
       "      <td>2019</td>\n",
       "      <td>가양역 지식산업센터 신축공사</td>\n",
       "      <td>서울시 강서구 등촌동 628-9외 2필지</td>\n",
       "      <td>187230.41</td>\n",
       "      <td>451178.119999</td>\n",
       "    </tr>\n",
       "    <tr>\n",
       "      <th>4</th>\n",
       "      <td>2019_0005</td>\n",
       "      <td>중랑구</td>\n",
       "      <td>2019</td>\n",
       "      <td>서울 양원 힐데스하임 참좋은 아파트 신축공사</td>\n",
       "      <td>서울시 중랑구 망우동</td>\n",
       "      <td>209181.20</td>\n",
       "      <td>455109.999999</td>\n",
       "    </tr>\n",
       "  </tbody>\n",
       "</table>\n",
       "</div>"
      ],
      "text/plain": [
       "        관리번호  자치구  등록년도                            공사명  \\\n",
       "0  2019_0001  성동구  2019                 뚝섬 부영복합빌딩 신축공사   \n",
       "1  2019_0002  중랑구  2019  서울 양원지구 C-2BL 금강펜테리음 아파트 신축공사   \n",
       "2  2019_0003  광진구  2019       e편한세상 광진 그랜드파크 공동주택 신축공사   \n",
       "3  2019_0004  강서구  2019                가양역 지식산업센터 신축공사   \n",
       "4  2019_0005  중랑구  2019       서울 양원 힐데스하임 참좋은 아파트 신축공사   \n",
       "\n",
       "                     공사위치        X좌표            Y좌표  \n",
       "0   서울시 성동구 성수동1가 685-701  203830.61  449268.719999  \n",
       "1             서울시 중랑구 신내동  208774.00  456259.599999  \n",
       "2             서울시 광진구 화양동  206306.80  449664.799999  \n",
       "3  서울시 강서구 등촌동 628-9외 2필지  187230.41  451178.119999  \n",
       "4             서울시 중랑구 망우동  209181.20  455109.999999  "
      ]
     },
     "execution_count": 133,
     "metadata": {},
     "output_type": "execute_result"
    }
   ],
   "source": [
    "construction_underground_water_df.head()"
   ]
  },
  {
   "cell_type": "code",
   "execution_count": 134,
   "metadata": {},
   "outputs": [
    {
     "name": "stdout",
     "output_type": "stream",
     "text": [
      "<class 'pandas.core.frame.DataFrame'>\n",
      "RangeIndex: 12 entries, 0 to 11\n",
      "Data columns (total 7 columns):\n",
      " #   Column  Non-Null Count  Dtype  \n",
      "---  ------  --------------  -----  \n",
      " 0   관리번호    12 non-null     object \n",
      " 1   자치구     12 non-null     object \n",
      " 2   등록년도    12 non-null     int64  \n",
      " 3   공사명     12 non-null     object \n",
      " 4   공사위치    12 non-null     object \n",
      " 5   X좌표     12 non-null     float64\n",
      " 6   Y좌표     12 non-null     float64\n",
      "dtypes: float64(2), int64(1), object(4)\n",
      "memory usage: 804.0+ bytes\n"
     ]
    }
   ],
   "source": [
    "construction_underground_water_df.info()"
   ]
  },
  {
   "cell_type": "code",
   "execution_count": 135,
   "metadata": {},
   "outputs": [
    {
     "data": {
      "text/plain": [
       "관리번호    0\n",
       "자치구     0\n",
       "등록년도    0\n",
       "공사명     0\n",
       "공사위치    0\n",
       "X좌표     0\n",
       "Y좌표     0\n",
       "dtype: int64"
      ]
     },
     "execution_count": 135,
     "metadata": {},
     "output_type": "execute_result"
    }
   ],
   "source": [
    "construction_underground_water_df.isnull().sum()"
   ]
  },
  {
   "cell_type": "code",
   "execution_count": 136,
   "metadata": {},
   "outputs": [],
   "source": [
    "# 의미 없는 컬럼 삭제\n",
    "construction_underground_water_df.drop(columns=[\"관리번호\"], inplace=True)"
   ]
  },
  {
   "cell_type": "code",
   "execution_count": 137,
   "metadata": {},
   "outputs": [],
   "source": [
    "construction_underground_water_df.to_csv(\"data/processed/construction_underground_water_processed.csv\", index=False, encoding=\"utf-8-sig\")"
   ]
  },
  {
   "cell_type": "markdown",
   "metadata": {},
   "source": [
    "## 서울시 도로굴착 공사 현황"
   ]
  },
  {
   "cell_type": "code",
   "execution_count": 158,
   "metadata": {},
   "outputs": [],
   "source": [
    "road_construction_df = pd.read_csv('data/raw_data/서울시 도로굴착 공사 현황.csv', encoding='cp949')"
   ]
  },
  {
   "cell_type": "code",
   "execution_count": 159,
   "metadata": {},
   "outputs": [
    {
     "data": {
      "text/html": [
       "<div>\n",
       "<style scoped>\n",
       "    .dataframe tbody tr th:only-of-type {\n",
       "        vertical-align: middle;\n",
       "    }\n",
       "\n",
       "    .dataframe tbody tr th {\n",
       "        vertical-align: top;\n",
       "    }\n",
       "\n",
       "    .dataframe thead th {\n",
       "        text-align: right;\n",
       "    }\n",
       "</style>\n",
       "<table border=\"1\" class=\"dataframe\">\n",
       "  <thead>\n",
       "    <tr style=\"text-align: right;\">\n",
       "      <th></th>\n",
       "      <th>관리코드</th>\n",
       "      <th>구</th>\n",
       "      <th>동</th>\n",
       "      <th>공사명</th>\n",
       "      <th>착공일 ~ 준공일</th>\n",
       "      <th>신청자</th>\n",
       "      <th>처리상태</th>\n",
       "      <th>도로</th>\n",
       "      <th>포장</th>\n",
       "      <th>허가번호</th>\n",
       "    </tr>\n",
       "  </thead>\n",
       "  <tbody>\n",
       "    <tr>\n",
       "      <th>0</th>\n",
       "      <td>인터넷-230306-01</td>\n",
       "      <td>성동구</td>\n",
       "      <td>행당동</td>\n",
       "      <td>동북선도시철도1공구 101정거장 특별피난계단&lt;BR&gt;(성동구 행당동   192-8 ~...</td>\n",
       "      <td>-- ~ --</td>\n",
       "      <td>인터넷 개인굴착 그룹</td>\n",
       "      <td>신청자접수완료</td>\n",
       "      <td>특별시도</td>\n",
       "      <td>차도/보도</td>\n",
       "      <td>NaN</td>\n",
       "    </tr>\n",
       "    <tr>\n",
       "      <th>1</th>\n",
       "      <td>인터넷-220604-01</td>\n",
       "      <td>종로구</td>\n",
       "      <td>이화동</td>\n",
       "      <td>이화동149번지 하수관연결공사&lt;BR&gt;(종로구 이화동   149 ~ 이화동   149)</td>\n",
       "      <td>2022-06-15 ~ 2022-06-19</td>\n",
       "      <td>인터넷 개인굴착 그룹</td>\n",
       "      <td>착공계 접수</td>\n",
       "      <td>구도</td>\n",
       "      <td>차도/보도</td>\n",
       "      <td>종로구-2022-개인-00060</td>\n",
       "    </tr>\n",
       "    <tr>\n",
       "      <th>2</th>\n",
       "      <td>인터넷-220602-02</td>\n",
       "      <td>성북구</td>\n",
       "      <td>길음동</td>\n",
       "      <td>길음역세권 주택재개발사업중(지하연결통로공사)&lt;BR&gt;(성북구 길음동   875-1 ~...</td>\n",
       "      <td>-- ~ --</td>\n",
       "      <td>인터넷 개인굴착 그룹</td>\n",
       "      <td>허가</td>\n",
       "      <td>구도</td>\n",
       "      <td>차도</td>\n",
       "      <td>성북구-2022-개인-00067</td>\n",
       "    </tr>\n",
       "    <tr>\n",
       "      <th>3</th>\n",
       "      <td>인터넷-220602-02</td>\n",
       "      <td>성북구</td>\n",
       "      <td>길음동</td>\n",
       "      <td>길음역세권 주택재개발사업중(지하연결통로공사)&lt;BR&gt;(성북구 길음동   541-6 ~...</td>\n",
       "      <td>-- ~ --</td>\n",
       "      <td>인터넷 개인굴착 그룹</td>\n",
       "      <td>허가</td>\n",
       "      <td>특별시도</td>\n",
       "      <td>보도</td>\n",
       "      <td>성북구-2022-개인-00067</td>\n",
       "    </tr>\n",
       "    <tr>\n",
       "      <th>4</th>\n",
       "      <td>인터넷-211110-22</td>\n",
       "      <td>금천구</td>\n",
       "      <td>시흥동</td>\n",
       "      <td>신안산선 복선전철 3-1공구&lt;BR&gt;(금천구 시흥동   1001-11 ~ 시흥동   ...</td>\n",
       "      <td>2021-11-15 ~ 2021-11-30</td>\n",
       "      <td>인터넷 개인굴착 그룹</td>\n",
       "      <td>착공계 접수</td>\n",
       "      <td>특별시도</td>\n",
       "      <td>보도</td>\n",
       "      <td>금천구-2021-개인-00163</td>\n",
       "    </tr>\n",
       "  </tbody>\n",
       "</table>\n",
       "</div>"
      ],
      "text/plain": [
       "            관리코드    구    동                                                공사명  \\\n",
       "0  인터넷-230306-01  성동구  행당동  동북선도시철도1공구 101정거장 특별피난계단<BR>(성동구 행당동   192-8 ~...   \n",
       "1  인터넷-220604-01  종로구  이화동    이화동149번지 하수관연결공사<BR>(종로구 이화동   149 ~ 이화동   149)   \n",
       "2  인터넷-220602-02  성북구  길음동  길음역세권 주택재개발사업중(지하연결통로공사)<BR>(성북구 길음동   875-1 ~...   \n",
       "3  인터넷-220602-02  성북구  길음동  길음역세권 주택재개발사업중(지하연결통로공사)<BR>(성북구 길음동   541-6 ~...   \n",
       "4  인터넷-211110-22  금천구  시흥동  신안산선 복선전철 3-1공구<BR>(금천구 시흥동   1001-11 ~ 시흥동   ...   \n",
       "\n",
       "                 착공일 ~ 준공일          신청자     처리상태    도로     포장  \\\n",
       "0                  -- ~ --  인터넷 개인굴착 그룹  신청자접수완료  특별시도  차도/보도   \n",
       "1  2022-06-15 ~ 2022-06-19  인터넷 개인굴착 그룹   착공계 접수    구도  차도/보도   \n",
       "2                  -- ~ --  인터넷 개인굴착 그룹       허가    구도     차도   \n",
       "3                  -- ~ --  인터넷 개인굴착 그룹       허가  특별시도     보도   \n",
       "4  2021-11-15 ~ 2021-11-30  인터넷 개인굴착 그룹   착공계 접수  특별시도     보도   \n",
       "\n",
       "                허가번호  \n",
       "0                NaN  \n",
       "1  종로구-2022-개인-00060  \n",
       "2  성북구-2022-개인-00067  \n",
       "3  성북구-2022-개인-00067  \n",
       "4  금천구-2021-개인-00163  "
      ]
     },
     "execution_count": 159,
     "metadata": {},
     "output_type": "execute_result"
    }
   ],
   "source": [
    "road_construction_df.head()"
   ]
  },
  {
   "cell_type": "code",
   "execution_count": 160,
   "metadata": {},
   "outputs": [
    {
     "data": {
      "text/plain": [
       "array(['신청자접수완료', '착공계 접수', '허가', '협의완료', '협의요청', '검토완료', '허가증 교부',\n",
       "       '징수확인'], dtype=object)"
      ]
     },
     "execution_count": 160,
     "metadata": {},
     "output_type": "execute_result"
    }
   ],
   "source": [
    "road_construction_df[\"처리상태\"].unique()"
   ]
  },
  {
   "cell_type": "code",
   "execution_count": 161,
   "metadata": {},
   "outputs": [
    {
     "name": "stdout",
     "output_type": "stream",
     "text": [
      "<class 'pandas.core.frame.DataFrame'>\n",
      "RangeIndex: 533 entries, 0 to 532\n",
      "Data columns (total 10 columns):\n",
      " #   Column     Non-Null Count  Dtype \n",
      "---  ------     --------------  ----- \n",
      " 0   관리코드       533 non-null    object\n",
      " 1   구          533 non-null    object\n",
      " 2   동          533 non-null    object\n",
      " 3   공사명        533 non-null    object\n",
      " 4   착공일 ~ 준공일  533 non-null    object\n",
      " 5   신청자        533 non-null    object\n",
      " 6   처리상태       533 non-null    object\n",
      " 7   도로         533 non-null    object\n",
      " 8   포장         533 non-null    object\n",
      " 9   허가번호       482 non-null    object\n",
      "dtypes: object(10)\n",
      "memory usage: 41.8+ KB\n"
     ]
    }
   ],
   "source": [
    "road_construction_df.info()"
   ]
  },
  {
   "cell_type": "code",
   "execution_count": 162,
   "metadata": {},
   "outputs": [
    {
     "data": {
      "text/plain": [
       "관리코드          0\n",
       "구             0\n",
       "동             0\n",
       "공사명           0\n",
       "착공일 ~ 준공일     0\n",
       "신청자           0\n",
       "처리상태          0\n",
       "도로            0\n",
       "포장            0\n",
       "허가번호         51\n",
       "dtype: int64"
      ]
     },
     "execution_count": 162,
     "metadata": {},
     "output_type": "execute_result"
    }
   ],
   "source": [
    "road_construction_df.isnull().sum()"
   ]
  },
  {
   "cell_type": "code",
   "execution_count": 163,
   "metadata": {},
   "outputs": [],
   "source": [
    "# 필요없는 컬럼 제거 (\"신청자\" 컬럼도 지워야할지 고민중)\n",
    "road_construction_df.drop(columns=[\"관리코드\", \"허가번호\"], inplace=True)"
   ]
  },
  {
   "cell_type": "code",
   "execution_count": 164,
   "metadata": {},
   "outputs": [
    {
     "data": {
      "text/plain": [
       "0      동북선도시철도1공구 101정거장 특별피난계단<BR>(성동구 행당동   192-8 ~...\n",
       "1        이화동149번지 하수관연결공사<BR>(종로구 이화동   149 ~ 이화동   149)\n",
       "2      길음역세권 주택재개발사업중(지하연결통로공사)<BR>(성북구 길음동   875-1 ~...\n",
       "3      길음역세권 주택재개발사업중(지하연결통로공사)<BR>(성북구 길음동   541-6 ~...\n",
       "4      신안산선 복선전철 3-1공구<BR>(금천구 시흥동   1001-11 ~ 시흥동   ...\n",
       "                             ...                        \n",
       "528    군자역 8번 출입구 승강편의시설 설치공사(에스컬레이터)<BR>(광진구 능동   천호...\n",
       "529    노원 외 1역 승강편의시설 설치공사(노원역)<BR>(노원구 상계동   동일로 140...\n",
       "530    까치산 외 1역 승강편의시설 설치공사(39공구, 까치산역)_원인자<BR>(강서구 화...\n",
       "531    교대역 13출구 엘리베이터 설치공사<BR>(서초구 서초동   서초중앙로 116일원 ...\n",
       "532    교대역 13출구 엘리베이터 설치공사<BR>(서초구 서초동   서초중앙로 116일원 ...\n",
       "Name: 공사명, Length: 533, dtype: object"
      ]
     },
     "execution_count": 164,
     "metadata": {},
     "output_type": "execute_result"
    }
   ],
   "source": [
    "road_construction_df[\"공사명\"]"
   ]
  },
  {
   "cell_type": "code",
   "execution_count": 165,
   "metadata": {},
   "outputs": [],
   "source": [
    "# 공사명에서 공사명과 주소 분리\n",
    "split_cols = road_construction_df[\"공사명\"].str.split(\"<BR>\", n=1, expand=True)\n",
    "\n",
    "road_construction_df[\"공사명\"] = split_cols[0].str.strip()\n",
    "road_construction_df[\"주소\"] = split_cols[1].str.strip(\"() \").replace(\"\", pd.NA)"
   ]
  },
  {
   "cell_type": "code",
   "execution_count": 166,
   "metadata": {},
   "outputs": [
    {
     "data": {
      "text/html": [
       "<div>\n",
       "<style scoped>\n",
       "    .dataframe tbody tr th:only-of-type {\n",
       "        vertical-align: middle;\n",
       "    }\n",
       "\n",
       "    .dataframe tbody tr th {\n",
       "        vertical-align: top;\n",
       "    }\n",
       "\n",
       "    .dataframe thead th {\n",
       "        text-align: right;\n",
       "    }\n",
       "</style>\n",
       "<table border=\"1\" class=\"dataframe\">\n",
       "  <thead>\n",
       "    <tr style=\"text-align: right;\">\n",
       "      <th></th>\n",
       "      <th>구</th>\n",
       "      <th>동</th>\n",
       "      <th>공사명</th>\n",
       "      <th>착공일 ~ 준공일</th>\n",
       "      <th>신청자</th>\n",
       "      <th>처리상태</th>\n",
       "      <th>도로</th>\n",
       "      <th>포장</th>\n",
       "      <th>주소</th>\n",
       "    </tr>\n",
       "  </thead>\n",
       "  <tbody>\n",
       "    <tr>\n",
       "      <th>0</th>\n",
       "      <td>성동구</td>\n",
       "      <td>행당동</td>\n",
       "      <td>동북선도시철도1공구 101정거장 특별피난계단</td>\n",
       "      <td>-- ~ --</td>\n",
       "      <td>인터넷 개인굴착 그룹</td>\n",
       "      <td>신청자접수완료</td>\n",
       "      <td>특별시도</td>\n",
       "      <td>차도/보도</td>\n",
       "      <td>성동구 행당동   192-8 ~ 행당동   192-40</td>\n",
       "    </tr>\n",
       "    <tr>\n",
       "      <th>1</th>\n",
       "      <td>종로구</td>\n",
       "      <td>이화동</td>\n",
       "      <td>이화동149번지 하수관연결공사</td>\n",
       "      <td>2022-06-15 ~ 2022-06-19</td>\n",
       "      <td>인터넷 개인굴착 그룹</td>\n",
       "      <td>착공계 접수</td>\n",
       "      <td>구도</td>\n",
       "      <td>차도/보도</td>\n",
       "      <td>종로구 이화동   149 ~ 이화동   149</td>\n",
       "    </tr>\n",
       "    <tr>\n",
       "      <th>2</th>\n",
       "      <td>성북구</td>\n",
       "      <td>길음동</td>\n",
       "      <td>길음역세권 주택재개발사업중(지하연결통로공사)</td>\n",
       "      <td>-- ~ --</td>\n",
       "      <td>인터넷 개인굴착 그룹</td>\n",
       "      <td>허가</td>\n",
       "      <td>구도</td>\n",
       "      <td>차도</td>\n",
       "      <td>성북구 길음동   875-1 ~ 길음동   875-1</td>\n",
       "    </tr>\n",
       "    <tr>\n",
       "      <th>3</th>\n",
       "      <td>성북구</td>\n",
       "      <td>길음동</td>\n",
       "      <td>길음역세권 주택재개발사업중(지하연결통로공사)</td>\n",
       "      <td>-- ~ --</td>\n",
       "      <td>인터넷 개인굴착 그룹</td>\n",
       "      <td>허가</td>\n",
       "      <td>특별시도</td>\n",
       "      <td>보도</td>\n",
       "      <td>성북구 길음동   541-6 ~ 길음동   541-154</td>\n",
       "    </tr>\n",
       "    <tr>\n",
       "      <th>4</th>\n",
       "      <td>금천구</td>\n",
       "      <td>시흥동</td>\n",
       "      <td>신안산선 복선전철 3-1공구</td>\n",
       "      <td>2021-11-15 ~ 2021-11-30</td>\n",
       "      <td>인터넷 개인굴착 그룹</td>\n",
       "      <td>착공계 접수</td>\n",
       "      <td>특별시도</td>\n",
       "      <td>보도</td>\n",
       "      <td>금천구 시흥동   1001-11 ~ 시흥동   1001-11</td>\n",
       "    </tr>\n",
       "  </tbody>\n",
       "</table>\n",
       "</div>"
      ],
      "text/plain": [
       "     구    동                       공사명                착공일 ~ 준공일          신청자  \\\n",
       "0  성동구  행당동  동북선도시철도1공구 101정거장 특별피난계단                  -- ~ --  인터넷 개인굴착 그룹   \n",
       "1  종로구  이화동          이화동149번지 하수관연결공사  2022-06-15 ~ 2022-06-19  인터넷 개인굴착 그룹   \n",
       "2  성북구  길음동  길음역세권 주택재개발사업중(지하연결통로공사)                  -- ~ --  인터넷 개인굴착 그룹   \n",
       "3  성북구  길음동  길음역세권 주택재개발사업중(지하연결통로공사)                  -- ~ --  인터넷 개인굴착 그룹   \n",
       "4  금천구  시흥동           신안산선 복선전철 3-1공구  2021-11-15 ~ 2021-11-30  인터넷 개인굴착 그룹   \n",
       "\n",
       "      처리상태    도로     포장                                 주소  \n",
       "0  신청자접수완료  특별시도  차도/보도     성동구 행당동   192-8 ~ 행당동   192-40  \n",
       "1   착공계 접수    구도  차도/보도          종로구 이화동   149 ~ 이화동   149  \n",
       "2       허가    구도     차도      성북구 길음동   875-1 ~ 길음동   875-1  \n",
       "3       허가  특별시도     보도    성북구 길음동   541-6 ~ 길음동   541-154  \n",
       "4   착공계 접수  특별시도     보도  금천구 시흥동   1001-11 ~ 시흥동   1001-11  "
      ]
     },
     "execution_count": 166,
     "metadata": {},
     "output_type": "execute_result"
    }
   ],
   "source": [
    "road_construction_df.head()"
   ]
  },
  {
   "cell_type": "code",
   "execution_count": 167,
   "metadata": {},
   "outputs": [],
   "source": [
    "# 착공일 ~ 준공일 컬럼에서 -- ~ -- 값 null로 하고 분리, date형식으로 바꾸기\n",
    "import numpy as np\n",
    "road_construction_df[\"착공일 ~ 준공일\"] = road_construction_df[\"착공일 ~ 준공일\"].replace(\"-- ~ --\", np.nan)"
   ]
  },
  {
   "cell_type": "code",
   "execution_count": 168,
   "metadata": {},
   "outputs": [],
   "source": [
    "road_construction_df[[\"착공일\", \"준공일\"]] = road_construction_df[\"착공일 ~ 준공일\"].str.split(\"~\", expand=True)\n",
    "\n",
    "road_construction_df[\"착공일\"] = pd.to_datetime(road_construction_df[\"착공일\"].str.strip(), errors=\"coerce\")\n",
    "road_construction_df[\"준공일\"] = pd.to_datetime(road_construction_df[\"준공일\"].str.strip(), errors=\"coerce\")"
   ]
  },
  {
   "cell_type": "code",
   "execution_count": 169,
   "metadata": {},
   "outputs": [],
   "source": [
    "road_construction_df.drop(columns=[\"착공일 ~ 준공일\"], inplace=True)"
   ]
  },
  {
   "cell_type": "code",
   "execution_count": 170,
   "metadata": {},
   "outputs": [],
   "source": [
    "road_construction_df[\"공사일수\"] = (\n",
    "    road_construction_df[\"준공일\"] - road_construction_df[\"착공일\"]\n",
    ").dt.days"
   ]
  },
  {
   "cell_type": "code",
   "execution_count": 171,
   "metadata": {},
   "outputs": [
    {
     "name": "stdout",
     "output_type": "stream",
     "text": [
      "<class 'pandas.core.frame.DataFrame'>\n",
      "RangeIndex: 533 entries, 0 to 532\n",
      "Data columns (total 11 columns):\n",
      " #   Column  Non-Null Count  Dtype         \n",
      "---  ------  --------------  -----         \n",
      " 0   구       533 non-null    object        \n",
      " 1   동       533 non-null    object        \n",
      " 2   공사명     533 non-null    object        \n",
      " 3   신청자     533 non-null    object        \n",
      " 4   처리상태    533 non-null    object        \n",
      " 5   도로      533 non-null    object        \n",
      " 6   포장      533 non-null    object        \n",
      " 7   주소      533 non-null    object        \n",
      " 8   착공일     372 non-null    datetime64[ns]\n",
      " 9   준공일     372 non-null    datetime64[ns]\n",
      " 10  공사일수    372 non-null    float64       \n",
      "dtypes: datetime64[ns](2), float64(1), object(8)\n",
      "memory usage: 45.9+ KB\n"
     ]
    }
   ],
   "source": [
    "road_construction_df.info()"
   ]
  },
  {
   "cell_type": "code",
   "execution_count": 172,
   "metadata": {},
   "outputs": [
    {
     "data": {
      "text/html": [
       "<div>\n",
       "<style scoped>\n",
       "    .dataframe tbody tr th:only-of-type {\n",
       "        vertical-align: middle;\n",
       "    }\n",
       "\n",
       "    .dataframe tbody tr th {\n",
       "        vertical-align: top;\n",
       "    }\n",
       "\n",
       "    .dataframe thead th {\n",
       "        text-align: right;\n",
       "    }\n",
       "</style>\n",
       "<table border=\"1\" class=\"dataframe\">\n",
       "  <thead>\n",
       "    <tr style=\"text-align: right;\">\n",
       "      <th></th>\n",
       "      <th>구</th>\n",
       "      <th>동</th>\n",
       "      <th>공사명</th>\n",
       "      <th>신청자</th>\n",
       "      <th>처리상태</th>\n",
       "      <th>도로</th>\n",
       "      <th>포장</th>\n",
       "      <th>주소</th>\n",
       "      <th>착공일</th>\n",
       "      <th>준공일</th>\n",
       "      <th>공사일수</th>\n",
       "    </tr>\n",
       "  </thead>\n",
       "  <tbody>\n",
       "    <tr>\n",
       "      <th>0</th>\n",
       "      <td>성동구</td>\n",
       "      <td>행당동</td>\n",
       "      <td>동북선도시철도1공구 101정거장 특별피난계단</td>\n",
       "      <td>인터넷 개인굴착 그룹</td>\n",
       "      <td>신청자접수완료</td>\n",
       "      <td>특별시도</td>\n",
       "      <td>차도/보도</td>\n",
       "      <td>성동구 행당동   192-8 ~ 행당동   192-40</td>\n",
       "      <td>NaT</td>\n",
       "      <td>NaT</td>\n",
       "      <td>NaN</td>\n",
       "    </tr>\n",
       "    <tr>\n",
       "      <th>1</th>\n",
       "      <td>종로구</td>\n",
       "      <td>이화동</td>\n",
       "      <td>이화동149번지 하수관연결공사</td>\n",
       "      <td>인터넷 개인굴착 그룹</td>\n",
       "      <td>착공계 접수</td>\n",
       "      <td>구도</td>\n",
       "      <td>차도/보도</td>\n",
       "      <td>종로구 이화동   149 ~ 이화동   149</td>\n",
       "      <td>2022-06-15</td>\n",
       "      <td>2022-06-19</td>\n",
       "      <td>4.0</td>\n",
       "    </tr>\n",
       "    <tr>\n",
       "      <th>2</th>\n",
       "      <td>성북구</td>\n",
       "      <td>길음동</td>\n",
       "      <td>길음역세권 주택재개발사업중(지하연결통로공사)</td>\n",
       "      <td>인터넷 개인굴착 그룹</td>\n",
       "      <td>허가</td>\n",
       "      <td>구도</td>\n",
       "      <td>차도</td>\n",
       "      <td>성북구 길음동   875-1 ~ 길음동   875-1</td>\n",
       "      <td>NaT</td>\n",
       "      <td>NaT</td>\n",
       "      <td>NaN</td>\n",
       "    </tr>\n",
       "    <tr>\n",
       "      <th>3</th>\n",
       "      <td>성북구</td>\n",
       "      <td>길음동</td>\n",
       "      <td>길음역세권 주택재개발사업중(지하연결통로공사)</td>\n",
       "      <td>인터넷 개인굴착 그룹</td>\n",
       "      <td>허가</td>\n",
       "      <td>특별시도</td>\n",
       "      <td>보도</td>\n",
       "      <td>성북구 길음동   541-6 ~ 길음동   541-154</td>\n",
       "      <td>NaT</td>\n",
       "      <td>NaT</td>\n",
       "      <td>NaN</td>\n",
       "    </tr>\n",
       "    <tr>\n",
       "      <th>4</th>\n",
       "      <td>금천구</td>\n",
       "      <td>시흥동</td>\n",
       "      <td>신안산선 복선전철 3-1공구</td>\n",
       "      <td>인터넷 개인굴착 그룹</td>\n",
       "      <td>착공계 접수</td>\n",
       "      <td>특별시도</td>\n",
       "      <td>보도</td>\n",
       "      <td>금천구 시흥동   1001-11 ~ 시흥동   1001-11</td>\n",
       "      <td>2021-11-15</td>\n",
       "      <td>2021-11-30</td>\n",
       "      <td>15.0</td>\n",
       "    </tr>\n",
       "  </tbody>\n",
       "</table>\n",
       "</div>"
      ],
      "text/plain": [
       "     구    동                       공사명          신청자     처리상태    도로     포장  \\\n",
       "0  성동구  행당동  동북선도시철도1공구 101정거장 특별피난계단  인터넷 개인굴착 그룹  신청자접수완료  특별시도  차도/보도   \n",
       "1  종로구  이화동          이화동149번지 하수관연결공사  인터넷 개인굴착 그룹   착공계 접수    구도  차도/보도   \n",
       "2  성북구  길음동  길음역세권 주택재개발사업중(지하연결통로공사)  인터넷 개인굴착 그룹       허가    구도     차도   \n",
       "3  성북구  길음동  길음역세권 주택재개발사업중(지하연결통로공사)  인터넷 개인굴착 그룹       허가  특별시도     보도   \n",
       "4  금천구  시흥동           신안산선 복선전철 3-1공구  인터넷 개인굴착 그룹   착공계 접수  특별시도     보도   \n",
       "\n",
       "                                  주소        착공일        준공일  공사일수  \n",
       "0     성동구 행당동   192-8 ~ 행당동   192-40        NaT        NaT   NaN  \n",
       "1          종로구 이화동   149 ~ 이화동   149 2022-06-15 2022-06-19   4.0  \n",
       "2      성북구 길음동   875-1 ~ 길음동   875-1        NaT        NaT   NaN  \n",
       "3    성북구 길음동   541-6 ~ 길음동   541-154        NaT        NaT   NaN  \n",
       "4  금천구 시흥동   1001-11 ~ 시흥동   1001-11 2021-11-15 2021-11-30  15.0  "
      ]
     },
     "execution_count": 172,
     "metadata": {},
     "output_type": "execute_result"
    }
   ],
   "source": [
    "road_construction_df.head()"
   ]
  },
  {
   "cell_type": "code",
   "execution_count": 173,
   "metadata": {},
   "outputs": [],
   "source": [
    "road_construction_df.to_csv(\"data/processed/road_construction_processed.csv\", index=False, encoding=\"utf-8-sig\")"
   ]
  },
  {
   "cell_type": "markdown",
   "metadata": {},
   "source": [
    "## 지하철역 깊이 데이터"
   ]
  },
  {
   "cell_type": "code",
   "execution_count": 83,
   "metadata": {},
   "outputs": [],
   "source": [
    "subway_depth = pd.read_csv('data/raw_data/서울교통공사_역사심도정보_20241104.csv', encoding='cp949')\n",
    "subway_coordinate = pd.read_csv('data/raw_data/서울교통공사_1_8호선 역사 좌표(위경도) 정보_20241031.csv', encoding='cp949')"
   ]
  },
  {
   "cell_type": "code",
   "execution_count": 84,
   "metadata": {},
   "outputs": [
    {
     "data": {
      "text/html": [
       "<div>\n",
       "<style scoped>\n",
       "    .dataframe tbody tr th:only-of-type {\n",
       "        vertical-align: middle;\n",
       "    }\n",
       "\n",
       "    .dataframe tbody tr th {\n",
       "        vertical-align: top;\n",
       "    }\n",
       "\n",
       "    .dataframe thead th {\n",
       "        text-align: right;\n",
       "    }\n",
       "</style>\n",
       "<table border=\"1\" class=\"dataframe\">\n",
       "  <thead>\n",
       "    <tr style=\"text-align: right;\">\n",
       "      <th></th>\n",
       "      <th>연번</th>\n",
       "      <th>호선</th>\n",
       "      <th>역명</th>\n",
       "      <th>층수</th>\n",
       "      <th>형식</th>\n",
       "      <th>지반고</th>\n",
       "      <th>레일면고</th>\n",
       "      <th>선로기준정거장깊이</th>\n",
       "      <th>정거장깊이</th>\n",
       "      <th>비고</th>\n",
       "    </tr>\n",
       "  </thead>\n",
       "  <tbody>\n",
       "    <tr>\n",
       "      <th>0</th>\n",
       "      <td>1</td>\n",
       "      <td>1</td>\n",
       "      <td>서울</td>\n",
       "      <td>B2</td>\n",
       "      <td>섬식</td>\n",
       "      <td>129.99</td>\n",
       "      <td>117.04</td>\n",
       "      <td>12.95</td>\n",
       "      <td>11.85</td>\n",
       "      <td>4호선,경의중앙선,공항철도환승</td>\n",
       "    </tr>\n",
       "    <tr>\n",
       "      <th>1</th>\n",
       "      <td>2</td>\n",
       "      <td>1</td>\n",
       "      <td>시청</td>\n",
       "      <td>B2</td>\n",
       "      <td>상대식</td>\n",
       "      <td>129.97</td>\n",
       "      <td>118.82</td>\n",
       "      <td>11.15</td>\n",
       "      <td>10.05</td>\n",
       "      <td>2호선환승</td>\n",
       "    </tr>\n",
       "    <tr>\n",
       "      <th>2</th>\n",
       "      <td>3</td>\n",
       "      <td>1</td>\n",
       "      <td>종각</td>\n",
       "      <td>B2</td>\n",
       "      <td>상대식</td>\n",
       "      <td>128.77</td>\n",
       "      <td>116.24</td>\n",
       "      <td>12.53</td>\n",
       "      <td>11.43</td>\n",
       "      <td>NaN</td>\n",
       "    </tr>\n",
       "    <tr>\n",
       "      <th>3</th>\n",
       "      <td>4</td>\n",
       "      <td>1</td>\n",
       "      <td>종로3가</td>\n",
       "      <td>B2</td>\n",
       "      <td>상대식</td>\n",
       "      <td>124.38</td>\n",
       "      <td>112.04</td>\n",
       "      <td>12.34</td>\n",
       "      <td>11.24</td>\n",
       "      <td>3,5호선환승</td>\n",
       "    </tr>\n",
       "    <tr>\n",
       "      <th>4</th>\n",
       "      <td>5</td>\n",
       "      <td>1</td>\n",
       "      <td>종로5가</td>\n",
       "      <td>B2</td>\n",
       "      <td>상대식</td>\n",
       "      <td>121.75</td>\n",
       "      <td>109.26</td>\n",
       "      <td>12.49</td>\n",
       "      <td>11.39</td>\n",
       "      <td>NaN</td>\n",
       "    </tr>\n",
       "  </tbody>\n",
       "</table>\n",
       "</div>"
      ],
      "text/plain": [
       "   연번  호선    역명  층수   형식     지반고    레일면고  선로기준정거장깊이  정거장깊이                비고\n",
       "0   1   1    서울  B2   섬식  129.99  117.04      12.95  11.85  4호선,경의중앙선,공항철도환승\n",
       "1   2   1    시청  B2  상대식  129.97  118.82      11.15  10.05             2호선환승\n",
       "2   3   1    종각  B2  상대식  128.77  116.24      12.53  11.43               NaN\n",
       "3   4   1  종로3가  B2  상대식  124.38  112.04      12.34  11.24           3,5호선환승\n",
       "4   5   1  종로5가  B2  상대식  121.75  109.26      12.49  11.39               NaN"
      ]
     },
     "execution_count": 84,
     "metadata": {},
     "output_type": "execute_result"
    }
   ],
   "source": [
    "subway_depth.head()"
   ]
  },
  {
   "cell_type": "code",
   "execution_count": 85,
   "metadata": {},
   "outputs": [
    {
     "data": {
      "text/html": [
       "<div>\n",
       "<style scoped>\n",
       "    .dataframe tbody tr th:only-of-type {\n",
       "        vertical-align: middle;\n",
       "    }\n",
       "\n",
       "    .dataframe tbody tr th {\n",
       "        vertical-align: top;\n",
       "    }\n",
       "\n",
       "    .dataframe thead th {\n",
       "        text-align: right;\n",
       "    }\n",
       "</style>\n",
       "<table border=\"1\" class=\"dataframe\">\n",
       "  <thead>\n",
       "    <tr style=\"text-align: right;\">\n",
       "      <th></th>\n",
       "      <th>연번</th>\n",
       "      <th>호선</th>\n",
       "      <th>고유역번호(외부역코드)</th>\n",
       "      <th>역명</th>\n",
       "      <th>위도</th>\n",
       "      <th>경도</th>\n",
       "      <th>작성일자</th>\n",
       "    </tr>\n",
       "  </thead>\n",
       "  <tbody>\n",
       "    <tr>\n",
       "      <th>0</th>\n",
       "      <td>1</td>\n",
       "      <td>1</td>\n",
       "      <td>150</td>\n",
       "      <td>서울</td>\n",
       "      <td>37.553150</td>\n",
       "      <td>126.972533</td>\n",
       "      <td>1974-02-28</td>\n",
       "    </tr>\n",
       "    <tr>\n",
       "      <th>1</th>\n",
       "      <td>2</td>\n",
       "      <td>1</td>\n",
       "      <td>151</td>\n",
       "      <td>시청</td>\n",
       "      <td>37.563590</td>\n",
       "      <td>126.975407</td>\n",
       "      <td>1974-08-15</td>\n",
       "    </tr>\n",
       "    <tr>\n",
       "      <th>2</th>\n",
       "      <td>3</td>\n",
       "      <td>1</td>\n",
       "      <td>152</td>\n",
       "      <td>종각</td>\n",
       "      <td>37.570203</td>\n",
       "      <td>126.983116</td>\n",
       "      <td>1974-08-15</td>\n",
       "    </tr>\n",
       "    <tr>\n",
       "      <th>3</th>\n",
       "      <td>4</td>\n",
       "      <td>1</td>\n",
       "      <td>153</td>\n",
       "      <td>종로3가</td>\n",
       "      <td>37.570429</td>\n",
       "      <td>126.992095</td>\n",
       "      <td>1974-08-15</td>\n",
       "    </tr>\n",
       "    <tr>\n",
       "      <th>4</th>\n",
       "      <td>5</td>\n",
       "      <td>1</td>\n",
       "      <td>154</td>\n",
       "      <td>종로5가</td>\n",
       "      <td>37.570971</td>\n",
       "      <td>127.001900</td>\n",
       "      <td>1974-03-31</td>\n",
       "    </tr>\n",
       "  </tbody>\n",
       "</table>\n",
       "</div>"
      ],
      "text/plain": [
       "   연번  호선  고유역번호(외부역코드)    역명         위도          경도        작성일자\n",
       "0   1   1           150    서울  37.553150  126.972533  1974-02-28\n",
       "1   2   1           151    시청  37.563590  126.975407  1974-08-15\n",
       "2   3   1           152    종각  37.570203  126.983116  1974-08-15\n",
       "3   4   1           153  종로3가  37.570429  126.992095  1974-08-15\n",
       "4   5   1           154  종로5가  37.570971  127.001900  1974-03-31"
      ]
     },
     "execution_count": 85,
     "metadata": {},
     "output_type": "execute_result"
    }
   ],
   "source": [
    "subway_coordinate.head()"
   ]
  },
  {
   "cell_type": "code",
   "execution_count": 86,
   "metadata": {},
   "outputs": [],
   "source": [
    "for df in [subway_depth, subway_coordinate]:\n",
    "    df['역명'] = df['역명'].astype(str).str.strip().str.replace(\" \", \"\")\n",
    "    df['호선'] = df['호선'].astype(str).str.strip().str.replace(\" \", \"\")"
   ]
  },
  {
   "cell_type": "code",
   "execution_count": 87,
   "metadata": {},
   "outputs": [],
   "source": [
    "# 조인키로 쓸 set 만들기\n",
    "depth_keys = set(zip(subway_depth[\"호선\"], subway_depth[\"역명\"]))\n",
    "coord_keys = set(zip(subway_coordinate[\"호선\"], subway_coordinate[\"역명\"]))\n",
    "\n",
    "# depth에는 있지만 coordinate에는 없는\n",
    "only_in_depth = depth_keys - coord_keys\n",
    "\n",
    "# coordinate에는 있지만 depth에는 없는\n",
    "only_in_coord = coord_keys - depth_keys\n",
    "\n",
    "# depth에는 있지만 coordinate에는 없는 행\n",
    "not_in_coord = subway_depth[subway_depth.apply(\n",
    "    lambda row: (row['호선'], row['역명']) in only_in_depth, axis=1)]\n",
    "\n",
    "# coordinate에는 있지만 depth에는 없는 행\n",
    "not_in_depth = subway_coordinate[subway_coordinate.apply(\n",
    "    lambda row: (row['호선'], row['역명']) in only_in_coord, axis=1)]"
   ]
  },
  {
   "cell_type": "code",
   "execution_count": 88,
   "metadata": {},
   "outputs": [
    {
     "name": "stdout",
     "output_type": "stream",
     "text": [
      "depth에는 있는데 좌표에 없는 역:\n",
      "    호선      역명\n",
      "12   2    을지3가\n",
      "13   2    을지4가\n",
      "41   2   구로디지털\n",
      "102  4   미아삼거리\n",
      "112  4     서울역\n",
      "141  5     애오게\n",
      "147  5  동대문운동장\n",
      "165  5      둔촌\n",
      "185  6     DMC\n",
      "243  7      이수\n",
      "245  7     숭실대\n",
      "248  7     신대방\n",
      "255  7      광명\n",
      "276  8  암사역사공원\n"
     ]
    }
   ],
   "source": [
    "print(\"depth에는 있는데 좌표에 없는 역:\")\n",
    "print(not_in_coord[['호선', '역명']])"
   ]
  },
  {
   "cell_type": "code",
   "execution_count": 89,
   "metadata": {},
   "outputs": [
    {
     "name": "stdout",
     "output_type": "stream",
     "text": [
      "\n",
      "좌표에는 있는데 depth에 없는 역:\n",
      "    호선         역명\n",
      "11   2      을지로3가\n",
      "12   2      을지로4가\n",
      "40   2    구로디지털단지\n",
      "102  4      미아사거리\n",
      "112  4         서울\n",
      "141  5        애오개\n",
      "147  5  동대문역사문화공원\n",
      "165  5        둔촌동\n",
      "185  6   디지털미디어시티\n",
      "243  7      총신대입구\n",
      "245  7      숭실대입구\n",
      "248  7     신대방삼거리\n",
      "255  7      광명사거리\n"
     ]
    }
   ],
   "source": [
    "print(\"\\n좌표에는 있는데 depth에 없는 역:\")\n",
    "print(not_in_depth[['호선', '역명']])"
   ]
  },
  {
   "cell_type": "code",
   "execution_count": 90,
   "metadata": {},
   "outputs": [
    {
     "name": "stdout",
     "output_type": "stream",
     "text": [
      "<class 'pandas.core.frame.DataFrame'>\n",
      "RangeIndex: 277 entries, 0 to 276\n",
      "Data columns (total 10 columns):\n",
      " #   Column     Non-Null Count  Dtype  \n",
      "---  ------     --------------  -----  \n",
      " 0   연번         277 non-null    int64  \n",
      " 1   호선         277 non-null    object \n",
      " 2   역명         277 non-null    object \n",
      " 3   층수         277 non-null    object \n",
      " 4   형식         277 non-null    object \n",
      " 5   지반고        277 non-null    object \n",
      " 6   레일면고       277 non-null    object \n",
      " 7   선로기준정거장깊이  277 non-null    float64\n",
      " 8   정거장깊이      277 non-null    float64\n",
      " 9   비고         109 non-null    object \n",
      "dtypes: float64(2), int64(1), object(7)\n",
      "memory usage: 21.8+ KB\n"
     ]
    }
   ],
   "source": [
    "subway_depth.info()"
   ]
  },
  {
   "cell_type": "code",
   "execution_count": 91,
   "metadata": {},
   "outputs": [
    {
     "name": "stdout",
     "output_type": "stream",
     "text": [
      "<class 'pandas.core.frame.DataFrame'>\n",
      "RangeIndex: 276 entries, 0 to 275\n",
      "Data columns (total 7 columns):\n",
      " #   Column        Non-Null Count  Dtype  \n",
      "---  ------        --------------  -----  \n",
      " 0   연번            276 non-null    int64  \n",
      " 1   호선            276 non-null    object \n",
      " 2   고유역번호(외부역코드)  276 non-null    int64  \n",
      " 3   역명            276 non-null    object \n",
      " 4   위도            276 non-null    float64\n",
      " 5   경도            276 non-null    float64\n",
      " 6   작성일자          276 non-null    object \n",
      "dtypes: float64(2), int64(2), object(3)\n",
      "memory usage: 15.2+ KB\n"
     ]
    }
   ],
   "source": [
    "subway_coordinate.info()"
   ]
  },
  {
   "cell_type": "code",
   "execution_count": 92,
   "metadata": {},
   "outputs": [],
   "source": [
    "# 직접바꾸기\n",
    "subway_depth.loc[subway_depth['역명'] == '을지3가', '역명'] = '을지로3가'\n",
    "subway_depth.loc[subway_depth['역명'] == '을지4가', '역명'] = '을지로4가'\n",
    "subway_depth.loc[subway_depth['역명'] == '삼성', '역명'] = '삼성' # ?\n",
    "subway_depth.loc[subway_depth['역명'] == '구로디지털', '역명'] = '구로디지털단지'\n",
    "subway_depth.loc[subway_depth['역명'] == '미아삼거리', '역명'] = '미아사거리'\n",
    "subway_depth.loc[subway_depth['역명'] == '서울역', '역명'] = '서울'\n",
    "subway_depth.loc[subway_depth['역명'] == '애오게', '역명'] = '애오개'\n",
    "subway_depth.loc[subway_depth['역명'] == '동대문운동장', '역명'] = '동대문역사문화공원'\n",
    "subway_depth.loc[subway_depth['역명'] == '둔촌', '역명'] = '둔촌동'\n",
    "subway_depth.loc[subway_depth['역명'] == 'DMC', '역명'] = '디지털미디어시티'\n",
    "subway_coordinate.loc[subway_coordinate['역명'] == '총신대입구', '역명'] = '이수'\n",
    "subway_depth.loc[subway_depth['역명'] == '총신대입구', '역명'] = '이수'\n",
    "subway_depth.loc[subway_depth['역명'] == '숭실대', '역명'] = '숭실대입구'\n",
    "subway_depth.loc[(subway_depth['역명'] == '신대방') & (subway_depth['호선'] == '7'), '역명'] = '신대방삼거리'\n",
    "subway_depth.loc[subway_depth['역명'] == '삼성', '역명'] = '삼성'\n",
    "subway_depth.loc[subway_depth['역명'] == '광명', '역명'] = '광명사거리'"
   ]
  },
  {
   "cell_type": "code",
   "execution_count": 93,
   "metadata": {},
   "outputs": [
    {
     "data": {
      "text/html": [
       "<div>\n",
       "<style scoped>\n",
       "    .dataframe tbody tr th:only-of-type {\n",
       "        vertical-align: middle;\n",
       "    }\n",
       "\n",
       "    .dataframe tbody tr th {\n",
       "        vertical-align: top;\n",
       "    }\n",
       "\n",
       "    .dataframe thead th {\n",
       "        text-align: right;\n",
       "    }\n",
       "</style>\n",
       "<table border=\"1\" class=\"dataframe\">\n",
       "  <thead>\n",
       "    <tr style=\"text-align: right;\">\n",
       "      <th></th>\n",
       "      <th>연번</th>\n",
       "      <th>호선</th>\n",
       "      <th>역명</th>\n",
       "      <th>층수</th>\n",
       "      <th>형식</th>\n",
       "      <th>지반고</th>\n",
       "      <th>레일면고</th>\n",
       "      <th>선로기준정거장깊이</th>\n",
       "      <th>정거장깊이</th>\n",
       "      <th>비고</th>\n",
       "      <th>위도</th>\n",
       "      <th>경도</th>\n",
       "    </tr>\n",
       "  </thead>\n",
       "  <tbody>\n",
       "    <tr>\n",
       "      <th>0</th>\n",
       "      <td>1</td>\n",
       "      <td>1</td>\n",
       "      <td>서울</td>\n",
       "      <td>B2</td>\n",
       "      <td>섬식</td>\n",
       "      <td>129.99</td>\n",
       "      <td>117.04</td>\n",
       "      <td>12.95</td>\n",
       "      <td>11.85</td>\n",
       "      <td>4호선,경의중앙선,공항철도환승</td>\n",
       "      <td>37.553150</td>\n",
       "      <td>126.972533</td>\n",
       "    </tr>\n",
       "    <tr>\n",
       "      <th>1</th>\n",
       "      <td>2</td>\n",
       "      <td>1</td>\n",
       "      <td>시청</td>\n",
       "      <td>B2</td>\n",
       "      <td>상대식</td>\n",
       "      <td>129.97</td>\n",
       "      <td>118.82</td>\n",
       "      <td>11.15</td>\n",
       "      <td>10.05</td>\n",
       "      <td>2호선환승</td>\n",
       "      <td>37.563590</td>\n",
       "      <td>126.975407</td>\n",
       "    </tr>\n",
       "    <tr>\n",
       "      <th>2</th>\n",
       "      <td>3</td>\n",
       "      <td>1</td>\n",
       "      <td>종각</td>\n",
       "      <td>B2</td>\n",
       "      <td>상대식</td>\n",
       "      <td>128.77</td>\n",
       "      <td>116.24</td>\n",
       "      <td>12.53</td>\n",
       "      <td>11.43</td>\n",
       "      <td>NaN</td>\n",
       "      <td>37.570203</td>\n",
       "      <td>126.983116</td>\n",
       "    </tr>\n",
       "    <tr>\n",
       "      <th>3</th>\n",
       "      <td>4</td>\n",
       "      <td>1</td>\n",
       "      <td>종로3가</td>\n",
       "      <td>B2</td>\n",
       "      <td>상대식</td>\n",
       "      <td>124.38</td>\n",
       "      <td>112.04</td>\n",
       "      <td>12.34</td>\n",
       "      <td>11.24</td>\n",
       "      <td>3,5호선환승</td>\n",
       "      <td>37.570429</td>\n",
       "      <td>126.992095</td>\n",
       "    </tr>\n",
       "    <tr>\n",
       "      <th>4</th>\n",
       "      <td>5</td>\n",
       "      <td>1</td>\n",
       "      <td>종로5가</td>\n",
       "      <td>B2</td>\n",
       "      <td>상대식</td>\n",
       "      <td>121.75</td>\n",
       "      <td>109.26</td>\n",
       "      <td>12.49</td>\n",
       "      <td>11.39</td>\n",
       "      <td>NaN</td>\n",
       "      <td>37.570971</td>\n",
       "      <td>127.001900</td>\n",
       "    </tr>\n",
       "  </tbody>\n",
       "</table>\n",
       "</div>"
      ],
      "text/plain": [
       "   연번 호선    역명  층수   형식     지반고    레일면고  선로기준정거장깊이  정거장깊이                비고  \\\n",
       "0   1  1    서울  B2   섬식  129.99  117.04      12.95  11.85  4호선,경의중앙선,공항철도환승   \n",
       "1   2  1    시청  B2  상대식  129.97  118.82      11.15  10.05             2호선환승   \n",
       "2   3  1    종각  B2  상대식  128.77  116.24      12.53  11.43               NaN   \n",
       "3   4  1  종로3가  B2  상대식  124.38  112.04      12.34  11.24           3,5호선환승   \n",
       "4   5  1  종로5가  B2  상대식  121.75  109.26      12.49  11.39               NaN   \n",
       "\n",
       "          위도          경도  \n",
       "0  37.553150  126.972533  \n",
       "1  37.563590  126.975407  \n",
       "2  37.570203  126.983116  \n",
       "3  37.570429  126.992095  \n",
       "4  37.570971  127.001900  "
      ]
     },
     "execution_count": 93,
     "metadata": {},
     "output_type": "execute_result"
    }
   ],
   "source": [
    "# 깊이정보 데이터에 위경도 좌표 추가하기\n",
    "subway_depth.columns = subway_depth.columns.str.strip()\n",
    "subway_coordinate.columns = subway_coordinate.columns.str.strip()\n",
    "\n",
    "merged = pd.merge(\n",
    "    subway_depth,\n",
    "    subway_coordinate[[\"호선\", \"역명\", \"위도\", \"경도\"]],\n",
    "    how=\"left\",\n",
    "    on=[\"호선\", \"역명\"]\n",
    ")\n",
    "\n",
    "merged.head()"
   ]
  },
  {
   "cell_type": "code",
   "execution_count": 94,
   "metadata": {},
   "outputs": [
    {
     "data": {
      "text/plain": [
       "연번             0\n",
       "호선             0\n",
       "역명             0\n",
       "층수             0\n",
       "형식             0\n",
       "지반고            0\n",
       "레일면고           0\n",
       "선로기준정거장깊이      0\n",
       "정거장깊이          0\n",
       "비고           168\n",
       "위도             1\n",
       "경도             1\n",
       "dtype: int64"
      ]
     },
     "execution_count": 94,
     "metadata": {},
     "output_type": "execute_result"
    }
   ],
   "source": [
    "merged.isnull().sum()"
   ]
  },
  {
   "cell_type": "code",
   "execution_count": 95,
   "metadata": {},
   "outputs": [
    {
     "name": "stdout",
     "output_type": "stream",
     "text": [
      "    호선      역명  위도  경도\n",
      "276  8  암사역사공원 NaN NaN\n"
     ]
    }
   ],
   "source": [
    "missing_coords = merged[merged['위도'].isnull() & merged['경도'].isnull()]\n",
    "print(missing_coords[['호선', '역명', '위도', '경도']])"
   ]
  },
  {
   "cell_type": "code",
   "execution_count": 96,
   "metadata": {},
   "outputs": [],
   "source": [
    "merged = merged[merged['역명'] != '암사역사공원']"
   ]
  },
  {
   "cell_type": "code",
   "execution_count": 97,
   "metadata": {},
   "outputs": [],
   "source": [
    "merged.to_csv(\"data/processed/subway_depth.csv\", index=False, encoding=\"utf-8-sig\")"
   ]
  },
  {
   "cell_type": "code",
   "execution_count": null,
   "metadata": {},
   "outputs": [],
   "source": []
  }
 ],
 "metadata": {
  "kernelspec": {
   "display_name": "Python 3 (ipykernel)",
   "language": "python",
   "name": "python3"
  },
  "language_info": {
   "codemirror_mode": {
    "name": "ipython",
    "version": 3
   },
   "file_extension": ".py",
   "mimetype": "text/x-python",
   "name": "python",
   "nbconvert_exporter": "python",
   "pygments_lexer": "ipython3",
   "version": "3.13.2"
  }
 },
 "nbformat": 4,
 "nbformat_minor": 2
}
