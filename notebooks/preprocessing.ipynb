{
 "cells": [
  {
   "cell_type": "markdown",
   "metadata": {},
   "source": [
    "# Setting"
   ]
  },
  {
   "cell_type": "code",
   "execution_count": 1,
   "metadata": {},
   "outputs": [],
   "source": [
    "import pandas as pd\n",
    "import geopandas as gpd\n",
    "import matplotlib.pyplot as plt\n",
    "import seaborn as sns"
   ]
  },
  {
   "cell_type": "code",
   "execution_count": 2,
   "metadata": {},
   "outputs": [],
   "source": [
    "import matplotlib.font_manager as fm\n",
    "import platform\n",
    "plt.rcParams['font.family'] = 'AppleGothic'"
   ]
  },
  {
   "cell_type": "markdown",
   "metadata": {},
   "source": [
    "# Preprocessing"
   ]
  },
  {
   "cell_type": "markdown",
   "metadata": {},
   "source": [
    "## 서울시 건설 알림이 정보"
   ]
  },
  {
   "cell_type": "code",
   "execution_count": 61,
   "metadata": {},
   "outputs": [],
   "source": [
    "construction_df = pd.read_csv('data/raw_data/서울시 건설 알림이 정보.csv', encoding='cp949')"
   ]
  },
  {
   "cell_type": "code",
   "execution_count": 62,
   "metadata": {},
   "outputs": [
    {
     "data": {
      "text/html": [
       "<div>\n",
       "<style scoped>\n",
       "    .dataframe tbody tr th:only-of-type {\n",
       "        vertical-align: middle;\n",
       "    }\n",
       "\n",
       "    .dataframe tbody tr th {\n",
       "        vertical-align: top;\n",
       "    }\n",
       "\n",
       "    .dataframe thead th {\n",
       "        text-align: right;\n",
       "    }\n",
       "</style>\n",
       "<table border=\"1\" class=\"dataframe\">\n",
       "  <thead>\n",
       "    <tr style=\"text-align: right;\">\n",
       "      <th></th>\n",
       "      <th>프로젝트 코드</th>\n",
       "      <th>프로젝트 명</th>\n",
       "      <th>사업착수일(계약일)</th>\n",
       "      <th>사업기간</th>\n",
       "      <th>프로젝트 종료여부(진행:0 종료:1)</th>\n",
       "      <th>사무실주소</th>\n",
       "      <th>프로젝트 주소</th>\n",
       "      <th>위치좌표(위도)</th>\n",
       "      <th>위치좌표(경도)</th>\n",
       "      <th>자치구 구분</th>\n",
       "      <th>사업금액(억원)</th>\n",
       "    </tr>\n",
       "  </thead>\n",
       "  <tbody>\n",
       "    <tr>\n",
       "      <th>0</th>\n",
       "      <td>3502024051377</td>\n",
       "      <td>2024년 중부수도사업소 관내 포장도로 굴착복구공사(장기1차- 단가계약)</td>\n",
       "      <td>202405</td>\n",
       "      <td>2024-05-13~2025-06-30</td>\n",
       "      <td>0</td>\n",
       "      <td>NaN</td>\n",
       "      <td>서울 중구 장충단로 88</td>\n",
       "      <td>37.566779</td>\n",
       "      <td>126.978618</td>\n",
       "      <td>NaN</td>\n",
       "      <td>NaN</td>\n",
       "    </tr>\n",
       "    <tr>\n",
       "      <th>1</th>\n",
       "      <td>7552024061894</td>\n",
       "      <td>2024년 1,2호선 강북구간 궤도시설 보수보강공사</td>\n",
       "      <td>202406</td>\n",
       "      <td>2024-06-18~2025-06-24</td>\n",
       "      <td>0</td>\n",
       "      <td>NaN</td>\n",
       "      <td>서울 중구 정동 5-8</td>\n",
       "      <td>37.565345</td>\n",
       "      <td>126.977198</td>\n",
       "      <td>중구</td>\n",
       "      <td>NaN</td>\n",
       "    </tr>\n",
       "    <tr>\n",
       "      <th>2</th>\n",
       "      <td>8502024070466</td>\n",
       "      <td>의회청사 공간재배치 및 내진보강 소방공사 (장기1차)</td>\n",
       "      <td>202407</td>\n",
       "      <td>2024-07-04~2025-06-09</td>\n",
       "      <td>0</td>\n",
       "      <td>NaN</td>\n",
       "      <td>서울특별시 중구 세종대로 125</td>\n",
       "      <td>37.567728</td>\n",
       "      <td>126.976671</td>\n",
       "      <td>중구</td>\n",
       "      <td>NaN</td>\n",
       "    </tr>\n",
       "    <tr>\n",
       "      <th>3</th>\n",
       "      <td>8502024061277</td>\n",
       "      <td>의회청사 공간재배치 및 내진보강 전기공사 (장기1차)</td>\n",
       "      <td>202406</td>\n",
       "      <td>2024-06-12~2025-05-31</td>\n",
       "      <td>0</td>\n",
       "      <td>NaN</td>\n",
       "      <td>서울특별시 중구 세종대로 125</td>\n",
       "      <td>37.567728</td>\n",
       "      <td>126.976671</td>\n",
       "      <td>중구</td>\n",
       "      <td>NaN</td>\n",
       "    </tr>\n",
       "    <tr>\n",
       "      <th>4</th>\n",
       "      <td>8502024062180</td>\n",
       "      <td>의회청사 공간재배치 및 내진보강 정보통신공사 (장기1차)</td>\n",
       "      <td>202406</td>\n",
       "      <td>2024-06-21~2025-05-31</td>\n",
       "      <td>0</td>\n",
       "      <td>NaN</td>\n",
       "      <td>서울특별시 중구 세종대로 125</td>\n",
       "      <td>37.567728</td>\n",
       "      <td>126.976671</td>\n",
       "      <td>중구</td>\n",
       "      <td>NaN</td>\n",
       "    </tr>\n",
       "  </tbody>\n",
       "</table>\n",
       "</div>"
      ],
      "text/plain": [
       "         프로젝트 코드                                    프로젝트 명  사업착수일(계약일)  \\\n",
       "0  3502024051377  2024년 중부수도사업소 관내 포장도로 굴착복구공사(장기1차- 단가계약)      202405   \n",
       "1  7552024061894              2024년 1,2호선 강북구간 궤도시설 보수보강공사      202406   \n",
       "2  8502024070466             의회청사 공간재배치 및 내진보강 소방공사 (장기1차)      202407   \n",
       "3  8502024061277             의회청사 공간재배치 및 내진보강 전기공사 (장기1차)      202406   \n",
       "4  8502024062180           의회청사 공간재배치 및 내진보강 정보통신공사 (장기1차)      202406   \n",
       "\n",
       "                    사업기간  프로젝트 종료여부(진행:0 종료:1)  사무실주소            프로젝트 주소  \\\n",
       "0  2024-05-13~2025-06-30                     0    NaN      서울 중구 장충단로 88   \n",
       "1  2024-06-18~2025-06-24                     0    NaN       서울 중구 정동 5-8   \n",
       "2  2024-07-04~2025-06-09                     0    NaN  서울특별시 중구 세종대로 125   \n",
       "3  2024-06-12~2025-05-31                     0    NaN  서울특별시 중구 세종대로 125   \n",
       "4  2024-06-21~2025-05-31                     0    NaN  서울특별시 중구 세종대로 125   \n",
       "\n",
       "    위치좌표(위도)    위치좌표(경도) 자치구 구분  사업금액(억원)  \n",
       "0  37.566779  126.978618    NaN       NaN  \n",
       "1  37.565345  126.977198     중구       NaN  \n",
       "2  37.567728  126.976671     중구       NaN  \n",
       "3  37.567728  126.976671     중구       NaN  \n",
       "4  37.567728  126.976671     중구       NaN  "
      ]
     },
     "execution_count": 62,
     "metadata": {},
     "output_type": "execute_result"
    }
   ],
   "source": [
    "construction_df.head()"
   ]
  },
  {
   "cell_type": "code",
   "execution_count": 63,
   "metadata": {},
   "outputs": [],
   "source": [
    "# 프로젝트 코드 컬럼 삭제 (의미 없음)\n",
    "construction_df.drop(columns=[\"프로젝트 코드\"], inplace=True)"
   ]
  },
  {
   "cell_type": "code",
   "execution_count": 64,
   "metadata": {},
   "outputs": [],
   "source": [
    "# 사무실 주소 컬럼 삭제 (의미 없음)\n",
    "construction_df.drop(columns=[\"사무실주소\"], inplace=True)"
   ]
  },
  {
   "cell_type": "code",
   "execution_count": 65,
   "metadata": {},
   "outputs": [],
   "source": [
    "# 프로젝트 종료여부(진행:0 종료:1)\n",
    "\n",
    "# 컬럼 이름 변경\n",
    "construction_df = construction_df.rename(columns={\"프로젝트 종료여부(진행:0 종료:1)\": \"프로젝트 종료여부\"})\n",
    "\n",
    "# 0 → False, 1 → True 변환\n",
    "construction_df[\"프로젝트 종료여부\"] = construction_df[\"프로젝트 종료여부\"].map({0: False, 1: True})"
   ]
  },
  {
   "cell_type": "code",
   "execution_count": 66,
   "metadata": {},
   "outputs": [],
   "source": [
    "# 위도 경도 결측치 제거\n",
    "construction_df.dropna(subset=[\"위치좌표(위도)\", \"위치좌표(경도)\"], inplace=True)"
   ]
  },
  {
   "cell_type": "code",
   "execution_count": 67,
   "metadata": {},
   "outputs": [],
   "source": [
    "# 자취구 컬럼 결측 보완\n",
    "construction_df[\"자치구 구분\"] = construction_df[\"자치구 구분\"].fillna(\n",
    "    construction_df[\"프로젝트 주소\"].str.extract(r\"\\s([^\\s]+구)\")[0]\n",
    ")"
   ]
  },
  {
   "cell_type": "code",
   "execution_count": 68,
   "metadata": {},
   "outputs": [
    {
     "data": {
      "text/plain": [
       "프로젝트 명          0\n",
       "사업착수일(계약일)      0\n",
       "사업기간            0\n",
       "프로젝트 종료여부       0\n",
       "프로젝트 주소        12\n",
       "위치좌표(위도)        0\n",
       "위치좌표(경도)        0\n",
       "자치구 구분         53\n",
       "사업금액(억원)      537\n",
       "dtype: int64"
      ]
     },
     "execution_count": 68,
     "metadata": {},
     "output_type": "execute_result"
    }
   ],
   "source": [
    "construction_df.isnull().sum()"
   ]
  },
  {
   "cell_type": "code",
   "execution_count": 69,
   "metadata": {},
   "outputs": [],
   "source": [
    "# '프로젝트 주소'와 '자치구 구분' 이렇게 했는데도 결측치가 있는 행 제거\n",
    "construction_df.dropna(subset=[\"프로젝트 주소\", \"자치구 구분\"], inplace=True)"
   ]
  },
  {
   "cell_type": "code",
   "execution_count": 70,
   "metadata": {},
   "outputs": [],
   "source": [
    "# 사업착수일 int → datetime\n",
    "construction_df[\"사업착수일\"] = pd.to_datetime(construction_df[\"사업착수일(계약일)\"].astype(str) + \"01\", format=\"%Y%m%d\")\n",
    "\n",
    "# 사업기간 → 시작일, 종료일 분리 및 datetime 변환\n",
    "construction_df[[\"사업시작일\", \"사업종료일\"]] = construction_df[\"사업기간\"].str.split(\"~\", expand=True)\n",
    "construction_df[\"사업시작일\"] = pd.to_datetime(construction_df[\"사업시작일\"], errors=\"coerce\")\n",
    "construction_df[\"사업종료일\"] = pd.to_datetime(construction_df[\"사업종료일\"], errors=\"coerce\")\n",
    "\n",
    "# 기존 컬럼 삭제\n",
    "construction_df.drop(columns=[\"사업착수일(계약일)\"], inplace=True)\n",
    "construction_df.drop(columns=[\"사업기간\"], inplace=True)"
   ]
  },
  {
   "cell_type": "code",
   "execution_count": 71,
   "metadata": {},
   "outputs": [
    {
     "data": {
      "text/plain": [
       "프로젝트 명         0\n",
       "프로젝트 종료여부      0\n",
       "프로젝트 주소        0\n",
       "위치좌표(위도)       0\n",
       "위치좌표(경도)       0\n",
       "자치구 구분         0\n",
       "사업금액(억원)     506\n",
       "사업착수일          0\n",
       "사업시작일          0\n",
       "사업종료일          0\n",
       "dtype: int64"
      ]
     },
     "execution_count": 71,
     "metadata": {},
     "output_type": "execute_result"
    }
   ],
   "source": [
    "construction_df.isnull().sum()"
   ]
  },
  {
   "cell_type": "code",
   "execution_count": 72,
   "metadata": {},
   "outputs": [
    {
     "data": {
      "text/html": [
       "<div>\n",
       "<style scoped>\n",
       "    .dataframe tbody tr th:only-of-type {\n",
       "        vertical-align: middle;\n",
       "    }\n",
       "\n",
       "    .dataframe tbody tr th {\n",
       "        vertical-align: top;\n",
       "    }\n",
       "\n",
       "    .dataframe thead th {\n",
       "        text-align: right;\n",
       "    }\n",
       "</style>\n",
       "<table border=\"1\" class=\"dataframe\">\n",
       "  <thead>\n",
       "    <tr style=\"text-align: right;\">\n",
       "      <th></th>\n",
       "      <th>프로젝트 명</th>\n",
       "      <th>프로젝트 종료여부</th>\n",
       "      <th>프로젝트 주소</th>\n",
       "      <th>위치좌표(위도)</th>\n",
       "      <th>위치좌표(경도)</th>\n",
       "      <th>자치구 구분</th>\n",
       "      <th>사업금액(억원)</th>\n",
       "      <th>사업착수일</th>\n",
       "      <th>사업시작일</th>\n",
       "      <th>사업종료일</th>\n",
       "    </tr>\n",
       "  </thead>\n",
       "  <tbody>\n",
       "    <tr>\n",
       "      <th>0</th>\n",
       "      <td>2024년 중부수도사업소 관내 포장도로 굴착복구공사(장기1차- 단가계약)</td>\n",
       "      <td>False</td>\n",
       "      <td>서울 중구 장충단로 88</td>\n",
       "      <td>37.566779</td>\n",
       "      <td>126.978618</td>\n",
       "      <td>중구</td>\n",
       "      <td>NaN</td>\n",
       "      <td>2024-05-01</td>\n",
       "      <td>2024-05-13</td>\n",
       "      <td>2025-06-30</td>\n",
       "    </tr>\n",
       "    <tr>\n",
       "      <th>1</th>\n",
       "      <td>2024년 1,2호선 강북구간 궤도시설 보수보강공사</td>\n",
       "      <td>False</td>\n",
       "      <td>서울 중구 정동 5-8</td>\n",
       "      <td>37.565345</td>\n",
       "      <td>126.977198</td>\n",
       "      <td>중구</td>\n",
       "      <td>NaN</td>\n",
       "      <td>2024-06-01</td>\n",
       "      <td>2024-06-18</td>\n",
       "      <td>2025-06-24</td>\n",
       "    </tr>\n",
       "    <tr>\n",
       "      <th>2</th>\n",
       "      <td>의회청사 공간재배치 및 내진보강 소방공사 (장기1차)</td>\n",
       "      <td>False</td>\n",
       "      <td>서울특별시 중구 세종대로 125</td>\n",
       "      <td>37.567728</td>\n",
       "      <td>126.976671</td>\n",
       "      <td>중구</td>\n",
       "      <td>NaN</td>\n",
       "      <td>2024-07-01</td>\n",
       "      <td>2024-07-04</td>\n",
       "      <td>2025-06-09</td>\n",
       "    </tr>\n",
       "    <tr>\n",
       "      <th>3</th>\n",
       "      <td>의회청사 공간재배치 및 내진보강 전기공사 (장기1차)</td>\n",
       "      <td>False</td>\n",
       "      <td>서울특별시 중구 세종대로 125</td>\n",
       "      <td>37.567728</td>\n",
       "      <td>126.976671</td>\n",
       "      <td>중구</td>\n",
       "      <td>NaN</td>\n",
       "      <td>2024-06-01</td>\n",
       "      <td>2024-06-12</td>\n",
       "      <td>2025-05-31</td>\n",
       "    </tr>\n",
       "    <tr>\n",
       "      <th>4</th>\n",
       "      <td>의회청사 공간재배치 및 내진보강 정보통신공사 (장기1차)</td>\n",
       "      <td>False</td>\n",
       "      <td>서울특별시 중구 세종대로 125</td>\n",
       "      <td>37.567728</td>\n",
       "      <td>126.976671</td>\n",
       "      <td>중구</td>\n",
       "      <td>NaN</td>\n",
       "      <td>2024-06-01</td>\n",
       "      <td>2024-06-21</td>\n",
       "      <td>2025-05-31</td>\n",
       "    </tr>\n",
       "  </tbody>\n",
       "</table>\n",
       "</div>"
      ],
      "text/plain": [
       "                                     프로젝트 명  프로젝트 종료여부            프로젝트 주소  \\\n",
       "0  2024년 중부수도사업소 관내 포장도로 굴착복구공사(장기1차- 단가계약)      False      서울 중구 장충단로 88   \n",
       "1              2024년 1,2호선 강북구간 궤도시설 보수보강공사      False       서울 중구 정동 5-8   \n",
       "2             의회청사 공간재배치 및 내진보강 소방공사 (장기1차)      False  서울특별시 중구 세종대로 125   \n",
       "3             의회청사 공간재배치 및 내진보강 전기공사 (장기1차)      False  서울특별시 중구 세종대로 125   \n",
       "4           의회청사 공간재배치 및 내진보강 정보통신공사 (장기1차)      False  서울특별시 중구 세종대로 125   \n",
       "\n",
       "    위치좌표(위도)    위치좌표(경도) 자치구 구분  사업금액(억원)      사업착수일      사업시작일      사업종료일  \n",
       "0  37.566779  126.978618     중구       NaN 2024-05-01 2024-05-13 2025-06-30  \n",
       "1  37.565345  126.977198     중구       NaN 2024-06-01 2024-06-18 2025-06-24  \n",
       "2  37.567728  126.976671     중구       NaN 2024-07-01 2024-07-04 2025-06-09  \n",
       "3  37.567728  126.976671     중구       NaN 2024-06-01 2024-06-12 2025-05-31  \n",
       "4  37.567728  126.976671     중구       NaN 2024-06-01 2024-06-21 2025-05-31  "
      ]
     },
     "execution_count": 72,
     "metadata": {},
     "output_type": "execute_result"
    }
   ],
   "source": [
    "construction_df.head()"
   ]
  },
  {
   "cell_type": "code",
   "execution_count": 73,
   "metadata": {},
   "outputs": [],
   "source": [
    "construction_df.to_csv(\"data/processed/construction_processed.csv\", index=False, encoding=\"utf-8-sig\")"
   ]
  },
  {
   "cell_type": "markdown",
   "metadata": {},
   "source": [
    "## 서울시 건축물 유출지하수 현황"
   ]
  },
  {
   "cell_type": "code",
   "execution_count": 119,
   "metadata": {},
   "outputs": [],
   "source": [
    "building_underground_water_df = pd.read_csv('data/raw_data/서울시 건축물 유출지하수 현황.csv', encoding='cp949')"
   ]
  },
  {
   "cell_type": "code",
   "execution_count": 120,
   "metadata": {},
   "outputs": [
    {
     "data": {
      "text/html": [
       "<div>\n",
       "<style scoped>\n",
       "    .dataframe tbody tr th:only-of-type {\n",
       "        vertical-align: middle;\n",
       "    }\n",
       "\n",
       "    .dataframe tbody tr th {\n",
       "        vertical-align: top;\n",
       "    }\n",
       "\n",
       "    .dataframe thead th {\n",
       "        text-align: right;\n",
       "    }\n",
       "</style>\n",
       "<table border=\"1\" class=\"dataframe\">\n",
       "  <thead>\n",
       "    <tr style=\"text-align: right;\">\n",
       "      <th></th>\n",
       "      <th>건축물명</th>\n",
       "      <th>건축물 위치</th>\n",
       "      <th>층수(지상_지하)</th>\n",
       "      <th>연면적</th>\n",
       "      <th>조사년도</th>\n",
       "      <th>총발생량(톤)</th>\n",
       "      <th>일평균발생량(톤/일)</th>\n",
       "      <th>일평균이용현황(톤/일)_하천방류</th>\n",
       "      <th>일평균이용현황(톤/일)_도로청소</th>\n",
       "      <th>일평균이용현황(톤/일)_공원용수</th>\n",
       "      <th>일평균이용현황(톤/일)_화장실세척</th>\n",
       "      <th>일평균이용현황(톤/일)_건물용수</th>\n",
       "      <th>미사용_하수도방류(톤/일)</th>\n",
       "      <th>일평균이용현황(톤/일)_기타건물용수</th>\n",
       "    </tr>\n",
       "  </thead>\n",
       "  <tbody>\n",
       "    <tr>\n",
       "      <th>0</th>\n",
       "      <td>서초오퓨런스빌딩</td>\n",
       "      <td>서초대로 254(서초동 1553-5)</td>\n",
       "      <td>18/8</td>\n",
       "      <td>31215.79</td>\n",
       "      <td>2024</td>\n",
       "      <td>6870.5</td>\n",
       "      <td>37.75</td>\n",
       "      <td>NaN</td>\n",
       "      <td>NaN</td>\n",
       "      <td>NaN</td>\n",
       "      <td>NaN</td>\n",
       "      <td>0.0</td>\n",
       "      <td>37.75</td>\n",
       "      <td>NaN</td>\n",
       "    </tr>\n",
       "    <tr>\n",
       "      <th>1</th>\n",
       "      <td>더클래스효성(주)</td>\n",
       "      <td>효령로55길 65(서초동 1597-7)</td>\n",
       "      <td>/</td>\n",
       "      <td>NaN</td>\n",
       "      <td>2024</td>\n",
       "      <td>2318.7</td>\n",
       "      <td>12.74</td>\n",
       "      <td>NaN</td>\n",
       "      <td>NaN</td>\n",
       "      <td>NaN</td>\n",
       "      <td>NaN</td>\n",
       "      <td>0.0</td>\n",
       "      <td>12.74</td>\n",
       "      <td>NaN</td>\n",
       "    </tr>\n",
       "    <tr>\n",
       "      <th>2</th>\n",
       "      <td>웅진타워</td>\n",
       "      <td>반포대로30길 81(서초동)</td>\n",
       "      <td>16/8</td>\n",
       "      <td>13852.05</td>\n",
       "      <td>2024</td>\n",
       "      <td>21481.5</td>\n",
       "      <td>118.03</td>\n",
       "      <td>NaN</td>\n",
       "      <td>NaN</td>\n",
       "      <td>NaN</td>\n",
       "      <td>NaN</td>\n",
       "      <td>0.0</td>\n",
       "      <td>118.03</td>\n",
       "      <td>NaN</td>\n",
       "    </tr>\n",
       "    <tr>\n",
       "      <th>3</th>\n",
       "      <td>나비호텔레지던스(김영*)</td>\n",
       "      <td>서초대로58길 5(서초동 1676-2)</td>\n",
       "      <td>11/2</td>\n",
       "      <td>2086.08</td>\n",
       "      <td>2024</td>\n",
       "      <td>358.5</td>\n",
       "      <td>1.97</td>\n",
       "      <td>NaN</td>\n",
       "      <td>NaN</td>\n",
       "      <td>NaN</td>\n",
       "      <td>NaN</td>\n",
       "      <td>0.0</td>\n",
       "      <td>1.97</td>\n",
       "      <td>NaN</td>\n",
       "    </tr>\n",
       "    <tr>\n",
       "      <th>4</th>\n",
       "      <td>북한산코오롱하늘채아파트</td>\n",
       "      <td>우이천로 367</td>\n",
       "      <td>18/</td>\n",
       "      <td>43216.74</td>\n",
       "      <td>2024</td>\n",
       "      <td>816.1</td>\n",
       "      <td>4.48</td>\n",
       "      <td>0.0</td>\n",
       "      <td>0.0</td>\n",
       "      <td>0.0</td>\n",
       "      <td>0.0</td>\n",
       "      <td>0.0</td>\n",
       "      <td>4.48</td>\n",
       "      <td>NaN</td>\n",
       "    </tr>\n",
       "  </tbody>\n",
       "</table>\n",
       "</div>"
      ],
      "text/plain": [
       "            건축물명                 건축물 위치 층수(지상_지하)       연면적  조사년도  총발생량(톤)  \\\n",
       "0       서초오퓨런스빌딩   서초대로 254(서초동 1553-5)      18/8  31215.79  2024   6870.5   \n",
       "1      더클래스효성(주)  효령로55길 65(서초동 1597-7)         /       NaN  2024   2318.7   \n",
       "2           웅진타워       반포대로30길 81(서초동)       16/8  13852.05  2024  21481.5   \n",
       "3  나비호텔레지던스(김영*)  서초대로58길 5(서초동 1676-2)      11/2   2086.08  2024    358.5   \n",
       "4   북한산코오롱하늘채아파트               우이천로 367       18/  43216.74  2024    816.1   \n",
       "\n",
       "   일평균발생량(톤/일)  일평균이용현황(톤/일)_하천방류  일평균이용현황(톤/일)_도로청소  일평균이용현황(톤/일)_공원용수  \\\n",
       "0        37.75                NaN                NaN                NaN   \n",
       "1        12.74                NaN                NaN                NaN   \n",
       "2       118.03                NaN                NaN                NaN   \n",
       "3         1.97                NaN                NaN                NaN   \n",
       "4         4.48                0.0                0.0                0.0   \n",
       "\n",
       "   일평균이용현황(톤/일)_화장실세척  일평균이용현황(톤/일)_건물용수  미사용_하수도방류(톤/일) 일평균이용현황(톤/일)_기타건물용수  \n",
       "0                 NaN                0.0           37.75                 NaN  \n",
       "1                 NaN                0.0           12.74                 NaN  \n",
       "2                 NaN                0.0          118.03                 NaN  \n",
       "3                 NaN                0.0            1.97                 NaN  \n",
       "4                 0.0                0.0            4.48                 NaN  "
      ]
     },
     "execution_count": 120,
     "metadata": {},
     "output_type": "execute_result"
    }
   ],
   "source": [
    "building_underground_water_df.head()"
   ]
  },
  {
   "cell_type": "code",
   "execution_count": 121,
   "metadata": {},
   "outputs": [
    {
     "name": "stdout",
     "output_type": "stream",
     "text": [
      "<class 'pandas.core.frame.DataFrame'>\n",
      "RangeIndex: 18206 entries, 0 to 18205\n",
      "Data columns (total 14 columns):\n",
      " #   Column               Non-Null Count  Dtype  \n",
      "---  ------               --------------  -----  \n",
      " 0   건축물명                 18201 non-null  object \n",
      " 1   건축물 위치               18008 non-null  object \n",
      " 2   층수(지상_지하)            15551 non-null  object \n",
      " 3   연면적                  3699 non-null   object \n",
      " 4   조사년도                 18206 non-null  int64  \n",
      " 5   총발생량(톤)              17613 non-null  float64\n",
      " 6   일평균발생량(톤/일)          18113 non-null  float64\n",
      " 7   일평균이용현황(톤/일)_하천방류    1996 non-null   float64\n",
      " 8   일평균이용현황(톤/일)_도로청소    1943 non-null   float64\n",
      " 9   일평균이용현황(톤/일)_공원용수    3252 non-null   float64\n",
      " 10  일평균이용현황(톤/일)_화장실세척   2788 non-null   float64\n",
      " 11  일평균이용현황(톤/일)_건물용수    7800 non-null   float64\n",
      " 12  미사용_하수도방류(톤/일)       17936 non-null  float64\n",
      " 13  일평균이용현황(톤/일)_기타건물용수  396 non-null    object \n",
      "dtypes: float64(8), int64(1), object(5)\n",
      "memory usage: 1.9+ MB\n"
     ]
    }
   ],
   "source": [
    "building_underground_water_df.info()"
   ]
  },
  {
   "cell_type": "code",
   "execution_count": 122,
   "metadata": {},
   "outputs": [
    {
     "data": {
      "text/plain": [
       "건축물명                       5\n",
       "건축물 위치                   198\n",
       "층수(지상_지하)               2655\n",
       "연면적                    14507\n",
       "조사년도                       0\n",
       "총발생량(톤)                  593\n",
       "일평균발생량(톤/일)               93\n",
       "일평균이용현황(톤/일)_하천방류      16210\n",
       "일평균이용현황(톤/일)_도로청소      16263\n",
       "일평균이용현황(톤/일)_공원용수      14954\n",
       "일평균이용현황(톤/일)_화장실세척     15418\n",
       "일평균이용현황(톤/일)_건물용수      10406\n",
       "미사용_하수도방류(톤/일)           270\n",
       "일평균이용현황(톤/일)_기타건물용수    17810\n",
       "dtype: int64"
      ]
     },
     "execution_count": 122,
     "metadata": {},
     "output_type": "execute_result"
    }
   ],
   "source": [
    "building_underground_water_df.isnull().sum()"
   ]
  },
  {
   "cell_type": "code",
   "execution_count": 123,
   "metadata": {},
   "outputs": [],
   "source": [
    "# 일평균이용현황(톤/일)_하천방류, 도로청소, 공원용수, 화장실세척, 건물용수, 기타건물용수 컬럼은 결측치가 너무 많아서 사용하기 어려워 보임\n",
    "building_underground_water_df.drop(columns=[\"일평균이용현황(톤/일)_하천방류\", \"일평균이용현황(톤/일)_도로청소\", \"일평균이용현황(톤/일)_공원용수\", \"일평균이용현황(톤/일)_화장실세척\", \"일평균이용현황(톤/일)_건물용수\", \"일평균이용현황(톤/일)_기타건물용수\"], inplace=True)"
   ]
  },
  {
   "cell_type": "code",
   "execution_count": 124,
   "metadata": {},
   "outputs": [],
   "source": [
    "# 연면적은 사용할 수도 있는데 결측치가 너무 많아서 제거 따로 구할 수 있는 방법도 없음\n",
    "building_underground_water_df.drop(columns=[\"연면적\"], inplace=True)"
   ]
  },
  {
   "cell_type": "code",
   "execution_count": 125,
   "metadata": {},
   "outputs": [
    {
     "data": {
      "text/plain": [
       "건축물명                 5\n",
       "건축물 위치             198\n",
       "층수(지상_지하)         2655\n",
       "조사년도                 0\n",
       "총발생량(톤)            593\n",
       "일평균발생량(톤/일)         93\n",
       "미사용_하수도방류(톤/일)     270\n",
       "dtype: int64"
      ]
     },
     "execution_count": 125,
     "metadata": {},
     "output_type": "execute_result"
    }
   ],
   "source": [
    "building_underground_water_df.isnull().sum()"
   ]
  },
  {
   "cell_type": "code",
   "execution_count": 126,
   "metadata": {},
   "outputs": [
    {
     "name": "stdout",
     "output_type": "stream",
     "text": [
      "<class 'pandas.core.frame.DataFrame'>\n",
      "RangeIndex: 18206 entries, 0 to 18205\n",
      "Data columns (total 7 columns):\n",
      " #   Column          Non-Null Count  Dtype  \n",
      "---  ------          --------------  -----  \n",
      " 0   건축물명            18201 non-null  object \n",
      " 1   건축물 위치          18008 non-null  object \n",
      " 2   층수(지상_지하)       15551 non-null  object \n",
      " 3   조사년도            18206 non-null  int64  \n",
      " 4   총발생량(톤)         17613 non-null  float64\n",
      " 5   일평균발생량(톤/일)     18113 non-null  float64\n",
      " 6   미사용_하수도방류(톤/일)  17936 non-null  float64\n",
      "dtypes: float64(3), int64(1), object(3)\n",
      "memory usage: 995.8+ KB\n"
     ]
    }
   ],
   "source": [
    "building_underground_water_df.info()"
   ]
  },
  {
   "cell_type": "code",
   "execution_count": 127,
   "metadata": {},
   "outputs": [
    {
     "name": "stdout",
     "output_type": "stream",
     "text": [
      "결측치만 있는 행 수: 7\n"
     ]
    }
   ],
   "source": [
    "# \"총발생량(톤)\", \"일평균발생량(톤/일)\", \"미사용_하수도방류(톤/일)\" 이거 3개 모두가 결측치인 행은 지우기 (정보가 없음)\n",
    "null_rows = building_underground_water_df[\n",
    "    building_underground_water_df[[\"총발생량(톤)\", \"일평균발생량(톤/일)\", \"미사용_하수도방류(톤/일)\"]].isnull().all(axis=1)\n",
    "]\n",
    "\n",
    "print(f\"결측치만 있는 행 수: {len(null_rows)}\")\n",
    "\n",
    "building_underground_water_df = building_underground_water_df.drop(null_rows.index)"
   ]
  },
  {
   "cell_type": "code",
   "execution_count": 128,
   "metadata": {},
   "outputs": [],
   "source": [
    "# 건축물명, 건축물 위치가 결측치인 행 지우기\n",
    "building_underground_water_df.dropna(subset=[\"건축물명\", \"건축물 위치\"], inplace=True)"
   ]
  },
  {
   "cell_type": "code",
   "execution_count": 129,
   "metadata": {},
   "outputs": [
    {
     "data": {
      "text/plain": [
       "건축물명                 0\n",
       "건축물 위치               0\n",
       "층수(지상_지하)         2576\n",
       "조사년도                 0\n",
       "총발생량(톤)            586\n",
       "일평균발생량(톤/일)         86\n",
       "미사용_하수도방류(톤/일)     263\n",
       "dtype: int64"
      ]
     },
     "execution_count": 129,
     "metadata": {},
     "output_type": "execute_result"
    }
   ],
   "source": [
    "building_underground_water_df.isnull().sum()"
   ]
  },
  {
   "cell_type": "code",
   "execution_count": 130,
   "metadata": {},
   "outputs": [
    {
     "name": "stdout",
     "output_type": "stream",
     "text": [
      "<class 'pandas.core.frame.DataFrame'>\n",
      "Index: 17996 entries, 0 to 18205\n",
      "Data columns (total 7 columns):\n",
      " #   Column          Non-Null Count  Dtype  \n",
      "---  ------          --------------  -----  \n",
      " 0   건축물명            17996 non-null  object \n",
      " 1   건축물 위치          17996 non-null  object \n",
      " 2   층수(지상_지하)       15420 non-null  object \n",
      " 3   조사년도            17996 non-null  int64  \n",
      " 4   총발생량(톤)         17410 non-null  float64\n",
      " 5   일평균발생량(톤/일)     17910 non-null  float64\n",
      " 6   미사용_하수도방류(톤/일)  17733 non-null  float64\n",
      "dtypes: float64(3), int64(1), object(3)\n",
      "memory usage: 1.1+ MB\n"
     ]
    }
   ],
   "source": [
    "building_underground_water_df.info()"
   ]
  },
  {
   "cell_type": "code",
   "execution_count": 131,
   "metadata": {},
   "outputs": [],
   "source": [
    "building_underground_water_df.to_csv(\"data/processed/building_underground_water_processed.csv\", index=False, encoding=\"utf-8-sig\")"
   ]
  },
  {
   "cell_type": "code",
   "execution_count": null,
   "metadata": {},
   "outputs": [],
   "source": []
  }
 ],
 "metadata": {
  "kernelspec": {
   "display_name": "Python 3 (ipykernel)",
   "language": "python",
   "name": "python3"
  },
  "language_info": {
   "codemirror_mode": {
    "name": "ipython",
    "version": 3
   },
   "file_extension": ".py",
   "mimetype": "text/x-python",
   "name": "python",
   "nbconvert_exporter": "python",
   "pygments_lexer": "ipython3",
   "version": "3.13.2"
  }
 },
 "nbformat": 4,
 "nbformat_minor": 2
}
