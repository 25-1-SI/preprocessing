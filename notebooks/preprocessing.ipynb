{
 "cells": [
  {
   "cell_type": "markdown",
   "metadata": {},
   "source": [
    "# Setting"
   ]
  },
  {
   "cell_type": "code",
   "execution_count": 1,
   "metadata": {},
   "outputs": [],
   "source": [
    "import pandas as pd\n",
    "import geopandas as gpd\n",
    "import matplotlib.pyplot as plt\n",
    "import seaborn as sns"
   ]
  },
  {
   "cell_type": "code",
   "execution_count": 2,
   "metadata": {},
   "outputs": [],
   "source": [
    "import matplotlib.font_manager as fm\n",
    "import platform\n",
    "plt.rcParams['font.family'] = 'AppleGothic'"
   ]
  },
  {
   "cell_type": "markdown",
   "metadata": {},
   "source": [
    "# Preprocessing"
   ]
  },
  {
   "cell_type": "markdown",
   "metadata": {},
   "source": [
    "## 서울시 건설 알림이 정보"
   ]
  },
  {
   "cell_type": "code",
   "execution_count": 61,
   "metadata": {},
   "outputs": [],
   "source": [
    "construction_df = pd.read_csv('data/raw_data/서울시 건설 알림이 정보.csv', encoding='cp949')"
   ]
  },
  {
   "cell_type": "code",
   "execution_count": 62,
   "metadata": {},
   "outputs": [
    {
     "data": {
      "text/html": [
       "<div>\n",
       "<style scoped>\n",
       "    .dataframe tbody tr th:only-of-type {\n",
       "        vertical-align: middle;\n",
       "    }\n",
       "\n",
       "    .dataframe tbody tr th {\n",
       "        vertical-align: top;\n",
       "    }\n",
       "\n",
       "    .dataframe thead th {\n",
       "        text-align: right;\n",
       "    }\n",
       "</style>\n",
       "<table border=\"1\" class=\"dataframe\">\n",
       "  <thead>\n",
       "    <tr style=\"text-align: right;\">\n",
       "      <th></th>\n",
       "      <th>프로젝트 코드</th>\n",
       "      <th>프로젝트 명</th>\n",
       "      <th>사업착수일(계약일)</th>\n",
       "      <th>사업기간</th>\n",
       "      <th>프로젝트 종료여부(진행:0 종료:1)</th>\n",
       "      <th>사무실주소</th>\n",
       "      <th>프로젝트 주소</th>\n",
       "      <th>위치좌표(위도)</th>\n",
       "      <th>위치좌표(경도)</th>\n",
       "      <th>자치구 구분</th>\n",
       "      <th>사업금액(억원)</th>\n",
       "    </tr>\n",
       "  </thead>\n",
       "  <tbody>\n",
       "    <tr>\n",
       "      <th>0</th>\n",
       "      <td>3502024051377</td>\n",
       "      <td>2024년 중부수도사업소 관내 포장도로 굴착복구공사(장기1차- 단가계약)</td>\n",
       "      <td>202405</td>\n",
       "      <td>2024-05-13~2025-06-30</td>\n",
       "      <td>0</td>\n",
       "      <td>NaN</td>\n",
       "      <td>서울 중구 장충단로 88</td>\n",
       "      <td>37.566779</td>\n",
       "      <td>126.978618</td>\n",
       "      <td>NaN</td>\n",
       "      <td>NaN</td>\n",
       "    </tr>\n",
       "    <tr>\n",
       "      <th>1</th>\n",
       "      <td>7552024061894</td>\n",
       "      <td>2024년 1,2호선 강북구간 궤도시설 보수보강공사</td>\n",
       "      <td>202406</td>\n",
       "      <td>2024-06-18~2025-06-24</td>\n",
       "      <td>0</td>\n",
       "      <td>NaN</td>\n",
       "      <td>서울 중구 정동 5-8</td>\n",
       "      <td>37.565345</td>\n",
       "      <td>126.977198</td>\n",
       "      <td>중구</td>\n",
       "      <td>NaN</td>\n",
       "    </tr>\n",
       "    <tr>\n",
       "      <th>2</th>\n",
       "      <td>8502024070466</td>\n",
       "      <td>의회청사 공간재배치 및 내진보강 소방공사 (장기1차)</td>\n",
       "      <td>202407</td>\n",
       "      <td>2024-07-04~2025-06-09</td>\n",
       "      <td>0</td>\n",
       "      <td>NaN</td>\n",
       "      <td>서울특별시 중구 세종대로 125</td>\n",
       "      <td>37.567728</td>\n",
       "      <td>126.976671</td>\n",
       "      <td>중구</td>\n",
       "      <td>NaN</td>\n",
       "    </tr>\n",
       "    <tr>\n",
       "      <th>3</th>\n",
       "      <td>8502024061277</td>\n",
       "      <td>의회청사 공간재배치 및 내진보강 전기공사 (장기1차)</td>\n",
       "      <td>202406</td>\n",
       "      <td>2024-06-12~2025-05-31</td>\n",
       "      <td>0</td>\n",
       "      <td>NaN</td>\n",
       "      <td>서울특별시 중구 세종대로 125</td>\n",
       "      <td>37.567728</td>\n",
       "      <td>126.976671</td>\n",
       "      <td>중구</td>\n",
       "      <td>NaN</td>\n",
       "    </tr>\n",
       "    <tr>\n",
       "      <th>4</th>\n",
       "      <td>8502024062180</td>\n",
       "      <td>의회청사 공간재배치 및 내진보강 정보통신공사 (장기1차)</td>\n",
       "      <td>202406</td>\n",
       "      <td>2024-06-21~2025-05-31</td>\n",
       "      <td>0</td>\n",
       "      <td>NaN</td>\n",
       "      <td>서울특별시 중구 세종대로 125</td>\n",
       "      <td>37.567728</td>\n",
       "      <td>126.976671</td>\n",
       "      <td>중구</td>\n",
       "      <td>NaN</td>\n",
       "    </tr>\n",
       "  </tbody>\n",
       "</table>\n",
       "</div>"
      ],
      "text/plain": [
       "         프로젝트 코드                                    프로젝트 명  사업착수일(계약일)  \\\n",
       "0  3502024051377  2024년 중부수도사업소 관내 포장도로 굴착복구공사(장기1차- 단가계약)      202405   \n",
       "1  7552024061894              2024년 1,2호선 강북구간 궤도시설 보수보강공사      202406   \n",
       "2  8502024070466             의회청사 공간재배치 및 내진보강 소방공사 (장기1차)      202407   \n",
       "3  8502024061277             의회청사 공간재배치 및 내진보강 전기공사 (장기1차)      202406   \n",
       "4  8502024062180           의회청사 공간재배치 및 내진보강 정보통신공사 (장기1차)      202406   \n",
       "\n",
       "                    사업기간  프로젝트 종료여부(진행:0 종료:1)  사무실주소            프로젝트 주소  \\\n",
       "0  2024-05-13~2025-06-30                     0    NaN      서울 중구 장충단로 88   \n",
       "1  2024-06-18~2025-06-24                     0    NaN       서울 중구 정동 5-8   \n",
       "2  2024-07-04~2025-06-09                     0    NaN  서울특별시 중구 세종대로 125   \n",
       "3  2024-06-12~2025-05-31                     0    NaN  서울특별시 중구 세종대로 125   \n",
       "4  2024-06-21~2025-05-31                     0    NaN  서울특별시 중구 세종대로 125   \n",
       "\n",
       "    위치좌표(위도)    위치좌표(경도) 자치구 구분  사업금액(억원)  \n",
       "0  37.566779  126.978618    NaN       NaN  \n",
       "1  37.565345  126.977198     중구       NaN  \n",
       "2  37.567728  126.976671     중구       NaN  \n",
       "3  37.567728  126.976671     중구       NaN  \n",
       "4  37.567728  126.976671     중구       NaN  "
      ]
     },
     "execution_count": 62,
     "metadata": {},
     "output_type": "execute_result"
    }
   ],
   "source": [
    "construction_df.head()"
   ]
  },
  {
   "cell_type": "code",
   "execution_count": 63,
   "metadata": {},
   "outputs": [],
   "source": [
    "# 프로젝트 코드 컬럼 삭제 (의미 없음)\n",
    "construction_df.drop(columns=[\"프로젝트 코드\"], inplace=True)"
   ]
  },
  {
   "cell_type": "code",
   "execution_count": 64,
   "metadata": {},
   "outputs": [],
   "source": [
    "# 사무실 주소 컬럼 삭제 (의미 없음)\n",
    "construction_df.drop(columns=[\"사무실주소\"], inplace=True)"
   ]
  },
  {
   "cell_type": "code",
   "execution_count": 65,
   "metadata": {},
   "outputs": [],
   "source": [
    "# 프로젝트 종료여부(진행:0 종료:1)\n",
    "\n",
    "# 컬럼 이름 변경\n",
    "construction_df = construction_df.rename(columns={\"프로젝트 종료여부(진행:0 종료:1)\": \"프로젝트 종료여부\"})\n",
    "\n",
    "# 0 → False, 1 → True 변환\n",
    "construction_df[\"프로젝트 종료여부\"] = construction_df[\"프로젝트 종료여부\"].map({0: False, 1: True})"
   ]
  },
  {
   "cell_type": "code",
   "execution_count": 66,
   "metadata": {},
   "outputs": [],
   "source": [
    "# 위도 경도 결측치 제거\n",
    "construction_df.dropna(subset=[\"위치좌표(위도)\", \"위치좌표(경도)\"], inplace=True)"
   ]
  },
  {
   "cell_type": "code",
   "execution_count": 67,
   "metadata": {},
   "outputs": [],
   "source": [
    "# 자취구 컬럼 결측 보완\n",
    "construction_df[\"자치구 구분\"] = construction_df[\"자치구 구분\"].fillna(\n",
    "    construction_df[\"프로젝트 주소\"].str.extract(r\"\\s([^\\s]+구)\")[0]\n",
    ")"
   ]
  },
  {
   "cell_type": "code",
   "execution_count": 68,
   "metadata": {},
   "outputs": [
    {
     "data": {
      "text/plain": [
       "프로젝트 명          0\n",
       "사업착수일(계약일)      0\n",
       "사업기간            0\n",
       "프로젝트 종료여부       0\n",
       "프로젝트 주소        12\n",
       "위치좌표(위도)        0\n",
       "위치좌표(경도)        0\n",
       "자치구 구분         53\n",
       "사업금액(억원)      537\n",
       "dtype: int64"
      ]
     },
     "execution_count": 68,
     "metadata": {},
     "output_type": "execute_result"
    }
   ],
   "source": [
    "construction_df.isnull().sum()"
   ]
  },
  {
   "cell_type": "code",
   "execution_count": 69,
   "metadata": {},
   "outputs": [],
   "source": [
    "# '프로젝트 주소'와 '자치구 구분' 이렇게 했는데도 결측치가 있는 행 제거\n",
    "construction_df.dropna(subset=[\"프로젝트 주소\", \"자치구 구분\"], inplace=True)"
   ]
  },
  {
   "cell_type": "code",
   "execution_count": 70,
   "metadata": {},
   "outputs": [],
   "source": [
    "# 사업착수일 int → datetime\n",
    "construction_df[\"사업착수일\"] = pd.to_datetime(construction_df[\"사업착수일(계약일)\"].astype(str) + \"01\", format=\"%Y%m%d\")\n",
    "\n",
    "# 사업기간 → 시작일, 종료일 분리 및 datetime 변환\n",
    "construction_df[[\"사업시작일\", \"사업종료일\"]] = construction_df[\"사업기간\"].str.split(\"~\", expand=True)\n",
    "construction_df[\"사업시작일\"] = pd.to_datetime(construction_df[\"사업시작일\"], errors=\"coerce\")\n",
    "construction_df[\"사업종료일\"] = pd.to_datetime(construction_df[\"사업종료일\"], errors=\"coerce\")\n",
    "\n",
    "# 기존 컬럼 삭제\n",
    "construction_df.drop(columns=[\"사업착수일(계약일)\"], inplace=True)\n",
    "construction_df.drop(columns=[\"사업기간\"], inplace=True)"
   ]
  },
  {
   "cell_type": "code",
   "execution_count": 71,
   "metadata": {},
   "outputs": [
    {
     "data": {
      "text/plain": [
       "프로젝트 명         0\n",
       "프로젝트 종료여부      0\n",
       "프로젝트 주소        0\n",
       "위치좌표(위도)       0\n",
       "위치좌표(경도)       0\n",
       "자치구 구분         0\n",
       "사업금액(억원)     506\n",
       "사업착수일          0\n",
       "사업시작일          0\n",
       "사업종료일          0\n",
       "dtype: int64"
      ]
     },
     "execution_count": 71,
     "metadata": {},
     "output_type": "execute_result"
    }
   ],
   "source": [
    "construction_df.isnull().sum()"
   ]
  },
  {
   "cell_type": "code",
   "execution_count": 72,
   "metadata": {},
   "outputs": [
    {
     "data": {
      "text/html": [
       "<div>\n",
       "<style scoped>\n",
       "    .dataframe tbody tr th:only-of-type {\n",
       "        vertical-align: middle;\n",
       "    }\n",
       "\n",
       "    .dataframe tbody tr th {\n",
       "        vertical-align: top;\n",
       "    }\n",
       "\n",
       "    .dataframe thead th {\n",
       "        text-align: right;\n",
       "    }\n",
       "</style>\n",
       "<table border=\"1\" class=\"dataframe\">\n",
       "  <thead>\n",
       "    <tr style=\"text-align: right;\">\n",
       "      <th></th>\n",
       "      <th>프로젝트 명</th>\n",
       "      <th>프로젝트 종료여부</th>\n",
       "      <th>프로젝트 주소</th>\n",
       "      <th>위치좌표(위도)</th>\n",
       "      <th>위치좌표(경도)</th>\n",
       "      <th>자치구 구분</th>\n",
       "      <th>사업금액(억원)</th>\n",
       "      <th>사업착수일</th>\n",
       "      <th>사업시작일</th>\n",
       "      <th>사업종료일</th>\n",
       "    </tr>\n",
       "  </thead>\n",
       "  <tbody>\n",
       "    <tr>\n",
       "      <th>0</th>\n",
       "      <td>2024년 중부수도사업소 관내 포장도로 굴착복구공사(장기1차- 단가계약)</td>\n",
       "      <td>False</td>\n",
       "      <td>서울 중구 장충단로 88</td>\n",
       "      <td>37.566779</td>\n",
       "      <td>126.978618</td>\n",
       "      <td>중구</td>\n",
       "      <td>NaN</td>\n",
       "      <td>2024-05-01</td>\n",
       "      <td>2024-05-13</td>\n",
       "      <td>2025-06-30</td>\n",
       "    </tr>\n",
       "    <tr>\n",
       "      <th>1</th>\n",
       "      <td>2024년 1,2호선 강북구간 궤도시설 보수보강공사</td>\n",
       "      <td>False</td>\n",
       "      <td>서울 중구 정동 5-8</td>\n",
       "      <td>37.565345</td>\n",
       "      <td>126.977198</td>\n",
       "      <td>중구</td>\n",
       "      <td>NaN</td>\n",
       "      <td>2024-06-01</td>\n",
       "      <td>2024-06-18</td>\n",
       "      <td>2025-06-24</td>\n",
       "    </tr>\n",
       "    <tr>\n",
       "      <th>2</th>\n",
       "      <td>의회청사 공간재배치 및 내진보강 소방공사 (장기1차)</td>\n",
       "      <td>False</td>\n",
       "      <td>서울특별시 중구 세종대로 125</td>\n",
       "      <td>37.567728</td>\n",
       "      <td>126.976671</td>\n",
       "      <td>중구</td>\n",
       "      <td>NaN</td>\n",
       "      <td>2024-07-01</td>\n",
       "      <td>2024-07-04</td>\n",
       "      <td>2025-06-09</td>\n",
       "    </tr>\n",
       "    <tr>\n",
       "      <th>3</th>\n",
       "      <td>의회청사 공간재배치 및 내진보강 전기공사 (장기1차)</td>\n",
       "      <td>False</td>\n",
       "      <td>서울특별시 중구 세종대로 125</td>\n",
       "      <td>37.567728</td>\n",
       "      <td>126.976671</td>\n",
       "      <td>중구</td>\n",
       "      <td>NaN</td>\n",
       "      <td>2024-06-01</td>\n",
       "      <td>2024-06-12</td>\n",
       "      <td>2025-05-31</td>\n",
       "    </tr>\n",
       "    <tr>\n",
       "      <th>4</th>\n",
       "      <td>의회청사 공간재배치 및 내진보강 정보통신공사 (장기1차)</td>\n",
       "      <td>False</td>\n",
       "      <td>서울특별시 중구 세종대로 125</td>\n",
       "      <td>37.567728</td>\n",
       "      <td>126.976671</td>\n",
       "      <td>중구</td>\n",
       "      <td>NaN</td>\n",
       "      <td>2024-06-01</td>\n",
       "      <td>2024-06-21</td>\n",
       "      <td>2025-05-31</td>\n",
       "    </tr>\n",
       "  </tbody>\n",
       "</table>\n",
       "</div>"
      ],
      "text/plain": [
       "                                     프로젝트 명  프로젝트 종료여부            프로젝트 주소  \\\n",
       "0  2024년 중부수도사업소 관내 포장도로 굴착복구공사(장기1차- 단가계약)      False      서울 중구 장충단로 88   \n",
       "1              2024년 1,2호선 강북구간 궤도시설 보수보강공사      False       서울 중구 정동 5-8   \n",
       "2             의회청사 공간재배치 및 내진보강 소방공사 (장기1차)      False  서울특별시 중구 세종대로 125   \n",
       "3             의회청사 공간재배치 및 내진보강 전기공사 (장기1차)      False  서울특별시 중구 세종대로 125   \n",
       "4           의회청사 공간재배치 및 내진보강 정보통신공사 (장기1차)      False  서울특별시 중구 세종대로 125   \n",
       "\n",
       "    위치좌표(위도)    위치좌표(경도) 자치구 구분  사업금액(억원)      사업착수일      사업시작일      사업종료일  \n",
       "0  37.566779  126.978618     중구       NaN 2024-05-01 2024-05-13 2025-06-30  \n",
       "1  37.565345  126.977198     중구       NaN 2024-06-01 2024-06-18 2025-06-24  \n",
       "2  37.567728  126.976671     중구       NaN 2024-07-01 2024-07-04 2025-06-09  \n",
       "3  37.567728  126.976671     중구       NaN 2024-06-01 2024-06-12 2025-05-31  \n",
       "4  37.567728  126.976671     중구       NaN 2024-06-01 2024-06-21 2025-05-31  "
      ]
     },
     "execution_count": 72,
     "metadata": {},
     "output_type": "execute_result"
    }
   ],
   "source": [
    "construction_df.head()"
   ]
  },
  {
   "cell_type": "code",
   "execution_count": 73,
   "metadata": {},
   "outputs": [],
   "source": [
    "construction_df.to_csv(\"data/processed/construction_processed.csv\", index=False, encoding=\"utf-8-sig\")"
   ]
  }
 ],
 "metadata": {
  "kernelspec": {
   "display_name": "Python 3 (ipykernel)",
   "language": "python",
   "name": "python3"
  },
  "language_info": {
   "codemirror_mode": {
    "name": "ipython",
    "version": 3
   },
   "file_extension": ".py",
   "mimetype": "text/x-python",
   "name": "python",
   "nbconvert_exporter": "python",
   "pygments_lexer": "ipython3",
   "version": "3.13.2"
  }
 },
 "nbformat": 4,
 "nbformat_minor": 2
}
